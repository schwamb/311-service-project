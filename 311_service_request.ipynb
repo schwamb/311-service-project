{
 "cells": [
  {
   "cell_type": "markdown",
   "metadata": {
    "id": "view-in-github"
   },
   "source": [
    "<a href=\"https://colab.research.google.com/github/schwamb/311-service-project/blob/main/311_service_request.ipynb\" target=\"_parent\"><img src=\"https://colab.research.google.com/assets/colab-badge.svg\" alt=\"Open In Colab\"/></a>"
   ]
  },
  {
   "cell_type": "code",
   "execution_count": 1,
   "metadata": {
    "id": "nDoGMTfMfwhj"
   },
   "outputs": [],
   "source": [
    "import matplotlib.pyplot as plt\n",
    "import numpy as np\n",
    "import pandas as pd\n",
    "import pickle\n",
    "# from google.colab import files\n",
    "# uploaded = files.upload()"
   ]
  },
  {
   "cell_type": "code",
   "execution_count": 7,
   "metadata": {
    "colab": {
     "base_uri": "https://localhost:8080/"
    },
    "id": "KZAE6p5Tfwhp",
    "outputId": "3a247871-1e53-498a-cf28-d6bd059825c2"
   },
   "outputs": [
    {
     "name": "stderr",
     "output_type": "stream",
     "text": [
      "C:\\Users\\chamb\\anaconda3\\lib\\site-packages\\IPython\\core\\interactiveshell.py:3071: DtypeWarning: Columns (11,12,18,28) have mixed types.Specify dtype option on import or set low_memory=False.\n",
      "  has_raised = await self.run_ast_nodes(code_ast.body, cell_name,\n"
     ]
    },
    {
     "name": "stdout",
     "output_type": "stream",
     "text": [
      "4314562\n"
     ]
    }
   ],
   "source": [
    "# Read the csv file into a pandas DataFrame\n",
    "# import io\n",
    "service_requests_starter = pd.read_csv('311_Service_Requests.csv')\n",
    "\n",
    "index = service_requests_starter.index\n",
    "number_of_rows = len(service_requests_starter) \n",
    "print(number_of_rows)"
   ]
  },
  {
   "cell_type": "code",
   "execution_count": 8,
   "metadata": {
    "colab": {
     "base_uri": "https://localhost:8080/",
     "height": 401
    },
    "id": "om3SwihK1MND",
    "outputId": "533f6b9b-96a1-442b-cd47-4461673efe99",
    "scrolled": true
   },
   "outputs": [
    {
     "data": {
      "text/html": [
       "<div>\n",
       "<style scoped>\n",
       "    .dataframe tbody tr th:only-of-type {\n",
       "        vertical-align: middle;\n",
       "    }\n",
       "\n",
       "    .dataframe tbody tr th {\n",
       "        vertical-align: top;\n",
       "    }\n",
       "\n",
       "    .dataframe thead th {\n",
       "        text-align: right;\n",
       "    }\n",
       "</style>\n",
       "<table border=\"1\" class=\"dataframe\">\n",
       "  <thead>\n",
       "    <tr style=\"text-align: right;\">\n",
       "      <th></th>\n",
       "      <th>SR_NUMBER</th>\n",
       "      <th>SR_TYPE</th>\n",
       "      <th>SR_SHORT_CODE</th>\n",
       "      <th>OWNER_DEPARTMENT</th>\n",
       "      <th>STATUS</th>\n",
       "      <th>CREATED_DATE</th>\n",
       "      <th>LAST_MODIFIED_DATE</th>\n",
       "      <th>CLOSED_DATE</th>\n",
       "      <th>STREET_ADDRESS</th>\n",
       "      <th>CITY</th>\n",
       "      <th>...</th>\n",
       "      <th>PRECINCT</th>\n",
       "      <th>SANITATION_DIVISION_DAYS</th>\n",
       "      <th>CREATED_HOUR</th>\n",
       "      <th>CREATED_DAY_OF_WEEK</th>\n",
       "      <th>CREATED_MONTH</th>\n",
       "      <th>X_COORDINATE</th>\n",
       "      <th>Y_COORDINATE</th>\n",
       "      <th>LATITUDE</th>\n",
       "      <th>LONGITUDE</th>\n",
       "      <th>LOCATION</th>\n",
       "    </tr>\n",
       "  </thead>\n",
       "  <tbody>\n",
       "    <tr>\n",
       "      <th>0</th>\n",
       "      <td>SR20-04353987</td>\n",
       "      <td>Graffiti Removal Request</td>\n",
       "      <td>GRAF</td>\n",
       "      <td>Streets and Sanitation</td>\n",
       "      <td>Completed</td>\n",
       "      <td>06/15/2020 11:14:56 AM</td>\n",
       "      <td>06/16/2020 08:07:09 AM</td>\n",
       "      <td>06/16/2020 08:07:09 AM</td>\n",
       "      <td>124 E 34TH ST</td>\n",
       "      <td>NaN</td>\n",
       "      <td>...</td>\n",
       "      <td>41.0</td>\n",
       "      <td>NaN</td>\n",
       "      <td>11</td>\n",
       "      <td>2</td>\n",
       "      <td>6</td>\n",
       "      <td>1.178058e+06</td>\n",
       "      <td>1.882510e+06</td>\n",
       "      <td>41.832932</td>\n",
       "      <td>-87.622178</td>\n",
       "      <td>(41.83293224964682, -87.62217834335817)</td>\n",
       "    </tr>\n",
       "    <tr>\n",
       "      <th>1</th>\n",
       "      <td>SR20-05291417</td>\n",
       "      <td>311 INFORMATION ONLY CALL</td>\n",
       "      <td>311IOC</td>\n",
       "      <td>311 City Services</td>\n",
       "      <td>Completed</td>\n",
       "      <td>10/18/2020 10:17:23 PM</td>\n",
       "      <td>10/18/2020 10:30:43 PM</td>\n",
       "      <td>10/18/2020 10:17:23 PM</td>\n",
       "      <td>2111 W Lexington ST</td>\n",
       "      <td>Chicago</td>\n",
       "      <td>...</td>\n",
       "      <td>46.0</td>\n",
       "      <td>NaN</td>\n",
       "      <td>22</td>\n",
       "      <td>1</td>\n",
       "      <td>10</td>\n",
       "      <td>1.162234e+06</td>\n",
       "      <td>1.896560e+06</td>\n",
       "      <td>41.871831</td>\n",
       "      <td>-87.679846</td>\n",
       "      <td>(41.871831277993564, -87.67984621876099)</td>\n",
       "    </tr>\n",
       "    <tr>\n",
       "      <th>2</th>\n",
       "      <td>SR19-03141127</td>\n",
       "      <td>311 INFORMATION ONLY CALL</td>\n",
       "      <td>311IOC</td>\n",
       "      <td>311 City Services</td>\n",
       "      <td>Completed</td>\n",
       "      <td>12/15/2019 01:09:11 PM</td>\n",
       "      <td>12/15/2019 01:30:44 PM</td>\n",
       "      <td>12/15/2019 01:09:12 PM</td>\n",
       "      <td>2111 W Lexington ST</td>\n",
       "      <td>Chicago</td>\n",
       "      <td>...</td>\n",
       "      <td>46.0</td>\n",
       "      <td>NaN</td>\n",
       "      <td>13</td>\n",
       "      <td>1</td>\n",
       "      <td>12</td>\n",
       "      <td>1.162234e+06</td>\n",
       "      <td>1.896560e+06</td>\n",
       "      <td>41.871831</td>\n",
       "      <td>-87.679846</td>\n",
       "      <td>(41.871831277993564, -87.67984621876099)</td>\n",
       "    </tr>\n",
       "    <tr>\n",
       "      <th>3</th>\n",
       "      <td>SR19-02121793</td>\n",
       "      <td>311 INFORMATION ONLY CALL</td>\n",
       "      <td>311IOC</td>\n",
       "      <td>311 City Services</td>\n",
       "      <td>Completed</td>\n",
       "      <td>08/05/2019 05:32:55 AM</td>\n",
       "      <td>08/05/2019 06:30:12 AM</td>\n",
       "      <td>08/05/2019 05:32:56 AM</td>\n",
       "      <td>2111 W Lexington ST</td>\n",
       "      <td>Chicago</td>\n",
       "      <td>...</td>\n",
       "      <td>46.0</td>\n",
       "      <td>NaN</td>\n",
       "      <td>5</td>\n",
       "      <td>2</td>\n",
       "      <td>8</td>\n",
       "      <td>1.162234e+06</td>\n",
       "      <td>1.896560e+06</td>\n",
       "      <td>41.871831</td>\n",
       "      <td>-87.679846</td>\n",
       "      <td>(41.871831277993564, -87.67984621876099)</td>\n",
       "    </tr>\n",
       "    <tr>\n",
       "      <th>4</th>\n",
       "      <td>SR21-00306938</td>\n",
       "      <td>Sewer Cleaning Inspection Request</td>\n",
       "      <td>CHECKFOR</td>\n",
       "      <td>DWM - Department of Water Management</td>\n",
       "      <td>Completed</td>\n",
       "      <td>02/23/2021 03:40:35 PM</td>\n",
       "      <td>02/23/2021 05:17:18 PM</td>\n",
       "      <td>02/23/2021 05:17:18 PM</td>\n",
       "      <td>2022 W WABANSIA AVE</td>\n",
       "      <td>NaN</td>\n",
       "      <td>...</td>\n",
       "      <td>36.0</td>\n",
       "      <td>NaN</td>\n",
       "      <td>15</td>\n",
       "      <td>3</td>\n",
       "      <td>2</td>\n",
       "      <td>1.162486e+06</td>\n",
       "      <td>1.911424e+06</td>\n",
       "      <td>41.912613</td>\n",
       "      <td>-87.678504</td>\n",
       "      <td>(41.91261283416994, -87.67850416366063)</td>\n",
       "    </tr>\n",
       "  </tbody>\n",
       "</table>\n",
       "<p>5 rows × 37 columns</p>\n",
       "</div>"
      ],
      "text/plain": [
       "       SR_NUMBER                            SR_TYPE SR_SHORT_CODE  \\\n",
       "0  SR20-04353987           Graffiti Removal Request          GRAF   \n",
       "1  SR20-05291417          311 INFORMATION ONLY CALL        311IOC   \n",
       "2  SR19-03141127          311 INFORMATION ONLY CALL        311IOC   \n",
       "3  SR19-02121793          311 INFORMATION ONLY CALL        311IOC   \n",
       "4  SR21-00306938  Sewer Cleaning Inspection Request      CHECKFOR   \n",
       "\n",
       "                       OWNER_DEPARTMENT     STATUS            CREATED_DATE  \\\n",
       "0                Streets and Sanitation  Completed  06/15/2020 11:14:56 AM   \n",
       "1                     311 City Services  Completed  10/18/2020 10:17:23 PM   \n",
       "2                     311 City Services  Completed  12/15/2019 01:09:11 PM   \n",
       "3                     311 City Services  Completed  08/05/2019 05:32:55 AM   \n",
       "4  DWM - Department of Water Management  Completed  02/23/2021 03:40:35 PM   \n",
       "\n",
       "       LAST_MODIFIED_DATE             CLOSED_DATE       STREET_ADDRESS  \\\n",
       "0  06/16/2020 08:07:09 AM  06/16/2020 08:07:09 AM        124 E 34TH ST   \n",
       "1  10/18/2020 10:30:43 PM  10/18/2020 10:17:23 PM  2111 W Lexington ST   \n",
       "2  12/15/2019 01:30:44 PM  12/15/2019 01:09:12 PM  2111 W Lexington ST   \n",
       "3  08/05/2019 06:30:12 AM  08/05/2019 05:32:56 AM  2111 W Lexington ST   \n",
       "4  02/23/2021 05:17:18 PM  02/23/2021 05:17:18 PM  2022 W WABANSIA AVE   \n",
       "\n",
       "      CITY  ... PRECINCT SANITATION_DIVISION_DAYS CREATED_HOUR  \\\n",
       "0      NaN  ...     41.0                      NaN           11   \n",
       "1  Chicago  ...     46.0                      NaN           22   \n",
       "2  Chicago  ...     46.0                      NaN           13   \n",
       "3  Chicago  ...     46.0                      NaN            5   \n",
       "4      NaN  ...     36.0                      NaN           15   \n",
       "\n",
       "  CREATED_DAY_OF_WEEK CREATED_MONTH  X_COORDINATE  Y_COORDINATE   LATITUDE  \\\n",
       "0                   2             6  1.178058e+06  1.882510e+06  41.832932   \n",
       "1                   1            10  1.162234e+06  1.896560e+06  41.871831   \n",
       "2                   1            12  1.162234e+06  1.896560e+06  41.871831   \n",
       "3                   2             8  1.162234e+06  1.896560e+06  41.871831   \n",
       "4                   3             2  1.162486e+06  1.911424e+06  41.912613   \n",
       "\n",
       "   LONGITUDE                                  LOCATION  \n",
       "0 -87.622178   (41.83293224964682, -87.62217834335817)  \n",
       "1 -87.679846  (41.871831277993564, -87.67984621876099)  \n",
       "2 -87.679846  (41.871831277993564, -87.67984621876099)  \n",
       "3 -87.679846  (41.871831277993564, -87.67984621876099)  \n",
       "4 -87.678504   (41.91261283416994, -87.67850416366063)  \n",
       "\n",
       "[5 rows x 37 columns]"
      ]
     },
     "execution_count": 8,
     "metadata": {},
     "output_type": "execute_result"
    }
   ],
   "source": [
    "service_requests_starter.head()\n"
   ]
  },
  {
   "cell_type": "code",
   "execution_count": 9,
   "metadata": {
    "scrolled": true
   },
   "outputs": [
    {
     "name": "stdout",
     "output_type": "stream",
     "text": [
      "SR_NUMBER\n",
      "SR_TYPE\n",
      "SR_SHORT_CODE\n",
      "OWNER_DEPARTMENT\n",
      "STATUS\n",
      "CREATED_DATE\n",
      "LAST_MODIFIED_DATE\n",
      "CLOSED_DATE\n",
      "STREET_ADDRESS\n",
      "CITY\n",
      "STATE\n",
      "ZIP_CODE\n",
      "STREET_NUMBER\n",
      "STREET_DIRECTION\n",
      "STREET_NAME\n",
      "STREET_TYPE\n",
      "DUPLICATE\n",
      "LEGACY_RECORD\n",
      "LEGACY_SR_NUMBER\n",
      "PARENT_SR_NUMBER\n",
      "COMMUNITY_AREA\n",
      "WARD\n",
      "ELECTRICAL_DISTRICT\n",
      "ELECTRICITY_GRID\n",
      "POLICE_SECTOR\n",
      "POLICE_DISTRICT\n",
      "POLICE_BEAT\n",
      "PRECINCT\n",
      "SANITATION_DIVISION_DAYS\n",
      "CREATED_HOUR\n",
      "CREATED_DAY_OF_WEEK\n",
      "CREATED_MONTH\n",
      "X_COORDINATE\n",
      "Y_COORDINATE\n",
      "LATITUDE\n",
      "LONGITUDE\n",
      "LOCATION\n"
     ]
    }
   ],
   "source": [
    "for col in service_requests_starter.columns:\n",
    "    print(col)"
   ]
  },
  {
   "cell_type": "code",
   "execution_count": 10,
   "metadata": {
    "colab": {
     "base_uri": "https://localhost:8080/",
     "height": 197
    },
    "id": "AoDWZypDo7qb",
    "outputId": "5a42def8-08e2-404b-a5a9-77ef954f309f"
   },
   "outputs": [
    {
     "data": {
      "text/html": [
       "<div>\n",
       "<style scoped>\n",
       "    .dataframe tbody tr th:only-of-type {\n",
       "        vertical-align: middle;\n",
       "    }\n",
       "\n",
       "    .dataframe tbody tr th {\n",
       "        vertical-align: top;\n",
       "    }\n",
       "\n",
       "    .dataframe thead th {\n",
       "        text-align: right;\n",
       "    }\n",
       "</style>\n",
       "<table border=\"1\" class=\"dataframe\">\n",
       "  <thead>\n",
       "    <tr style=\"text-align: right;\">\n",
       "      <th></th>\n",
       "      <th>SR_NUMBER</th>\n",
       "      <th>SR_TYPE</th>\n",
       "      <th>STATUS</th>\n",
       "      <th>CREATED_DATE</th>\n",
       "      <th>CLOSED_DATE</th>\n",
       "      <th>WARD</th>\n",
       "      <th>CREATED_MONTH</th>\n",
       "      <th>CREATED_DAY_OF_WEEK</th>\n",
       "      <th>CREATED_HOUR</th>\n",
       "      <th>DUPLICATE</th>\n",
       "      <th>LEGACY_RECORD</th>\n",
       "    </tr>\n",
       "  </thead>\n",
       "  <tbody>\n",
       "    <tr>\n",
       "      <th>0</th>\n",
       "      <td>SR20-04353987</td>\n",
       "      <td>Graffiti Removal Request</td>\n",
       "      <td>Completed</td>\n",
       "      <td>06/15/2020 11:14:56 AM</td>\n",
       "      <td>06/16/2020 08:07:09 AM</td>\n",
       "      <td>3.0</td>\n",
       "      <td>6</td>\n",
       "      <td>2</td>\n",
       "      <td>11</td>\n",
       "      <td>False</td>\n",
       "      <td>False</td>\n",
       "    </tr>\n",
       "    <tr>\n",
       "      <th>1</th>\n",
       "      <td>SR20-05291417</td>\n",
       "      <td>311 INFORMATION ONLY CALL</td>\n",
       "      <td>Completed</td>\n",
       "      <td>10/18/2020 10:17:23 PM</td>\n",
       "      <td>10/18/2020 10:17:23 PM</td>\n",
       "      <td>28.0</td>\n",
       "      <td>10</td>\n",
       "      <td>1</td>\n",
       "      <td>22</td>\n",
       "      <td>False</td>\n",
       "      <td>False</td>\n",
       "    </tr>\n",
       "    <tr>\n",
       "      <th>2</th>\n",
       "      <td>SR19-03141127</td>\n",
       "      <td>311 INFORMATION ONLY CALL</td>\n",
       "      <td>Completed</td>\n",
       "      <td>12/15/2019 01:09:11 PM</td>\n",
       "      <td>12/15/2019 01:09:12 PM</td>\n",
       "      <td>28.0</td>\n",
       "      <td>12</td>\n",
       "      <td>1</td>\n",
       "      <td>13</td>\n",
       "      <td>False</td>\n",
       "      <td>False</td>\n",
       "    </tr>\n",
       "    <tr>\n",
       "      <th>3</th>\n",
       "      <td>SR19-02121793</td>\n",
       "      <td>311 INFORMATION ONLY CALL</td>\n",
       "      <td>Completed</td>\n",
       "      <td>08/05/2019 05:32:55 AM</td>\n",
       "      <td>08/05/2019 05:32:56 AM</td>\n",
       "      <td>28.0</td>\n",
       "      <td>8</td>\n",
       "      <td>2</td>\n",
       "      <td>5</td>\n",
       "      <td>False</td>\n",
       "      <td>False</td>\n",
       "    </tr>\n",
       "    <tr>\n",
       "      <th>4</th>\n",
       "      <td>SR21-00306938</td>\n",
       "      <td>Sewer Cleaning Inspection Request</td>\n",
       "      <td>Completed</td>\n",
       "      <td>02/23/2021 03:40:35 PM</td>\n",
       "      <td>02/23/2021 05:17:18 PM</td>\n",
       "      <td>32.0</td>\n",
       "      <td>2</td>\n",
       "      <td>3</td>\n",
       "      <td>15</td>\n",
       "      <td>False</td>\n",
       "      <td>False</td>\n",
       "    </tr>\n",
       "  </tbody>\n",
       "</table>\n",
       "</div>"
      ],
      "text/plain": [
       "       SR_NUMBER                            SR_TYPE     STATUS  \\\n",
       "0  SR20-04353987           Graffiti Removal Request  Completed   \n",
       "1  SR20-05291417          311 INFORMATION ONLY CALL  Completed   \n",
       "2  SR19-03141127          311 INFORMATION ONLY CALL  Completed   \n",
       "3  SR19-02121793          311 INFORMATION ONLY CALL  Completed   \n",
       "4  SR21-00306938  Sewer Cleaning Inspection Request  Completed   \n",
       "\n",
       "             CREATED_DATE             CLOSED_DATE  WARD  CREATED_MONTH  \\\n",
       "0  06/15/2020 11:14:56 AM  06/16/2020 08:07:09 AM   3.0              6   \n",
       "1  10/18/2020 10:17:23 PM  10/18/2020 10:17:23 PM  28.0             10   \n",
       "2  12/15/2019 01:09:11 PM  12/15/2019 01:09:12 PM  28.0             12   \n",
       "3  08/05/2019 05:32:55 AM  08/05/2019 05:32:56 AM  28.0              8   \n",
       "4  02/23/2021 03:40:35 PM  02/23/2021 05:17:18 PM  32.0              2   \n",
       "\n",
       "   CREATED_DAY_OF_WEEK  CREATED_HOUR  DUPLICATE  LEGACY_RECORD  \n",
       "0                    2            11      False          False  \n",
       "1                    1            22      False          False  \n",
       "2                    1            13      False          False  \n",
       "3                    2             5      False          False  \n",
       "4                    3            15      False          False  "
      ]
     },
     "execution_count": 10,
     "metadata": {},
     "output_type": "execute_result"
    }
   ],
   "source": [
    "service_requests = service_requests_starter[['SR_NUMBER', 'SR_TYPE', 'STATUS', 'CREATED_DATE', 'CLOSED_DATE', 'WARD', 'CREATED_MONTH', 'CREATED_DAY_OF_WEEK', 'CREATED_HOUR', 'DUPLICATE', 'LEGACY_RECORD']].copy()\n",
    "service_requests.head()"
   ]
  },
  {
   "cell_type": "code",
   "execution_count": 11,
   "metadata": {
    "id": "mU01g1aPfwhq",
    "nbgrader": {
     "grade": false,
     "grade_id": "cell-41760f7611f17b25",
     "locked": false,
     "schema_version": 1,
     "solution": true
    }
   },
   "outputs": [],
   "source": [
    "info_only = service_requests[service_requests['SR_TYPE'] == '311 INFORMATION ONLY CALL'].index\n",
    "service_requests.drop(info_only , inplace=True)"
   ]
  },
  {
   "cell_type": "code",
   "execution_count": 12,
   "metadata": {
    "colab": {
     "base_uri": "https://localhost:8080/",
     "height": 406
    },
    "id": "Pg4YGz6e2mOL",
    "outputId": "4a44cf07-f3e8-4c5b-cf32-812e4414645d"
   },
   "outputs": [
    {
     "data": {
      "text/html": [
       "<div>\n",
       "<style scoped>\n",
       "    .dataframe tbody tr th:only-of-type {\n",
       "        vertical-align: middle;\n",
       "    }\n",
       "\n",
       "    .dataframe tbody tr th {\n",
       "        vertical-align: top;\n",
       "    }\n",
       "\n",
       "    .dataframe thead th {\n",
       "        text-align: right;\n",
       "    }\n",
       "</style>\n",
       "<table border=\"1\" class=\"dataframe\">\n",
       "  <thead>\n",
       "    <tr style=\"text-align: right;\">\n",
       "      <th></th>\n",
       "      <th>SR_NUMBER</th>\n",
       "      <th>SR_TYPE</th>\n",
       "      <th>STATUS</th>\n",
       "      <th>CREATED_DATE</th>\n",
       "      <th>CLOSED_DATE</th>\n",
       "      <th>WARD</th>\n",
       "      <th>CREATED_MONTH</th>\n",
       "      <th>CREATED_DAY_OF_WEEK</th>\n",
       "      <th>CREATED_HOUR</th>\n",
       "      <th>DUPLICATE</th>\n",
       "      <th>LEGACY_RECORD</th>\n",
       "    </tr>\n",
       "  </thead>\n",
       "  <tbody>\n",
       "    <tr>\n",
       "      <th>0</th>\n",
       "      <td>SR20-04353987</td>\n",
       "      <td>Graffiti Removal Request</td>\n",
       "      <td>Completed</td>\n",
       "      <td>06/15/2020 11:14:56 AM</td>\n",
       "      <td>06/16/2020 08:07:09 AM</td>\n",
       "      <td>3.0</td>\n",
       "      <td>6</td>\n",
       "      <td>2</td>\n",
       "      <td>11</td>\n",
       "      <td>False</td>\n",
       "      <td>False</td>\n",
       "    </tr>\n",
       "    <tr>\n",
       "      <th>4</th>\n",
       "      <td>SR21-00306938</td>\n",
       "      <td>Sewer Cleaning Inspection Request</td>\n",
       "      <td>Completed</td>\n",
       "      <td>02/23/2021 03:40:35 PM</td>\n",
       "      <td>02/23/2021 05:17:18 PM</td>\n",
       "      <td>32.0</td>\n",
       "      <td>2</td>\n",
       "      <td>3</td>\n",
       "      <td>15</td>\n",
       "      <td>False</td>\n",
       "      <td>False</td>\n",
       "    </tr>\n",
       "    <tr>\n",
       "      <th>5</th>\n",
       "      <td>SR21-00442710</td>\n",
       "      <td>Dead Animal Pick-Up Request</td>\n",
       "      <td>Completed</td>\n",
       "      <td>03/17/2021 03:11:33 PM</td>\n",
       "      <td>03/18/2021 12:28:21 PM</td>\n",
       "      <td>8.0</td>\n",
       "      <td>3</td>\n",
       "      <td>4</td>\n",
       "      <td>15</td>\n",
       "      <td>False</td>\n",
       "      <td>False</td>\n",
       "    </tr>\n",
       "    <tr>\n",
       "      <th>7</th>\n",
       "      <td>SR20-04128618</td>\n",
       "      <td>Tree Removal Request</td>\n",
       "      <td>Completed</td>\n",
       "      <td>05/16/2020 12:42:07 PM</td>\n",
       "      <td>03/17/2021 03:06:11 PM</td>\n",
       "      <td>24.0</td>\n",
       "      <td>5</td>\n",
       "      <td>7</td>\n",
       "      <td>12</td>\n",
       "      <td>False</td>\n",
       "      <td>False</td>\n",
       "    </tr>\n",
       "    <tr>\n",
       "      <th>8</th>\n",
       "      <td>SR20-04129347</td>\n",
       "      <td>Tree Trim Request</td>\n",
       "      <td>Completed</td>\n",
       "      <td>05/16/2020 02:27:03 PM</td>\n",
       "      <td>03/17/2021 02:51:48 PM</td>\n",
       "      <td>24.0</td>\n",
       "      <td>5</td>\n",
       "      <td>7</td>\n",
       "      <td>14</td>\n",
       "      <td>False</td>\n",
       "      <td>False</td>\n",
       "    </tr>\n",
       "    <tr>\n",
       "      <th>...</th>\n",
       "      <td>...</td>\n",
       "      <td>...</td>\n",
       "      <td>...</td>\n",
       "      <td>...</td>\n",
       "      <td>...</td>\n",
       "      <td>...</td>\n",
       "      <td>...</td>\n",
       "      <td>...</td>\n",
       "      <td>...</td>\n",
       "      <td>...</td>\n",
       "      <td>...</td>\n",
       "    </tr>\n",
       "    <tr>\n",
       "      <th>4314554</th>\n",
       "      <td>SR21-00860518</td>\n",
       "      <td>Aircraft Noise Complaint</td>\n",
       "      <td>Completed</td>\n",
       "      <td>05/22/2021 05:31:37 AM</td>\n",
       "      <td>05/22/2021 05:31:37 AM</td>\n",
       "      <td>41.0</td>\n",
       "      <td>5</td>\n",
       "      <td>7</td>\n",
       "      <td>5</td>\n",
       "      <td>False</td>\n",
       "      <td>False</td>\n",
       "    </tr>\n",
       "    <tr>\n",
       "      <th>4314556</th>\n",
       "      <td>SR21-00860617</td>\n",
       "      <td>Aircraft Noise Complaint</td>\n",
       "      <td>Completed</td>\n",
       "      <td>05/22/2021 06:46:33 AM</td>\n",
       "      <td>05/22/2021 06:46:33 AM</td>\n",
       "      <td>NaN</td>\n",
       "      <td>5</td>\n",
       "      <td>7</td>\n",
       "      <td>6</td>\n",
       "      <td>False</td>\n",
       "      <td>False</td>\n",
       "    </tr>\n",
       "    <tr>\n",
       "      <th>4314558</th>\n",
       "      <td>SR21-00860645</td>\n",
       "      <td>Abandoned Vehicle Complaint</td>\n",
       "      <td>Open</td>\n",
       "      <td>05/22/2021 06:56:31 AM</td>\n",
       "      <td>NaN</td>\n",
       "      <td>27.0</td>\n",
       "      <td>5</td>\n",
       "      <td>7</td>\n",
       "      <td>6</td>\n",
       "      <td>False</td>\n",
       "      <td>False</td>\n",
       "    </tr>\n",
       "    <tr>\n",
       "      <th>4314559</th>\n",
       "      <td>SR21-00860672</td>\n",
       "      <td>Tree Planting Request</td>\n",
       "      <td>Open</td>\n",
       "      <td>05/22/2021 07:04:25 AM</td>\n",
       "      <td>NaN</td>\n",
       "      <td>49.0</td>\n",
       "      <td>5</td>\n",
       "      <td>7</td>\n",
       "      <td>7</td>\n",
       "      <td>False</td>\n",
       "      <td>False</td>\n",
       "    </tr>\n",
       "    <tr>\n",
       "      <th>4314560</th>\n",
       "      <td>SR21-00860638</td>\n",
       "      <td>Pothole in Street Complaint</td>\n",
       "      <td>Open</td>\n",
       "      <td>05/22/2021 06:54:13 AM</td>\n",
       "      <td>NaN</td>\n",
       "      <td>19.0</td>\n",
       "      <td>5</td>\n",
       "      <td>7</td>\n",
       "      <td>6</td>\n",
       "      <td>False</td>\n",
       "      <td>False</td>\n",
       "    </tr>\n",
       "  </tbody>\n",
       "</table>\n",
       "<p>2660627 rows × 11 columns</p>\n",
       "</div>"
      ],
      "text/plain": [
       "             SR_NUMBER                            SR_TYPE     STATUS  \\\n",
       "0        SR20-04353987           Graffiti Removal Request  Completed   \n",
       "4        SR21-00306938  Sewer Cleaning Inspection Request  Completed   \n",
       "5        SR21-00442710        Dead Animal Pick-Up Request  Completed   \n",
       "7        SR20-04128618               Tree Removal Request  Completed   \n",
       "8        SR20-04129347                  Tree Trim Request  Completed   \n",
       "...                ...                                ...        ...   \n",
       "4314554  SR21-00860518           Aircraft Noise Complaint  Completed   \n",
       "4314556  SR21-00860617           Aircraft Noise Complaint  Completed   \n",
       "4314558  SR21-00860645        Abandoned Vehicle Complaint       Open   \n",
       "4314559  SR21-00860672              Tree Planting Request       Open   \n",
       "4314560  SR21-00860638        Pothole in Street Complaint       Open   \n",
       "\n",
       "                   CREATED_DATE             CLOSED_DATE  WARD  CREATED_MONTH  \\\n",
       "0        06/15/2020 11:14:56 AM  06/16/2020 08:07:09 AM   3.0              6   \n",
       "4        02/23/2021 03:40:35 PM  02/23/2021 05:17:18 PM  32.0              2   \n",
       "5        03/17/2021 03:11:33 PM  03/18/2021 12:28:21 PM   8.0              3   \n",
       "7        05/16/2020 12:42:07 PM  03/17/2021 03:06:11 PM  24.0              5   \n",
       "8        05/16/2020 02:27:03 PM  03/17/2021 02:51:48 PM  24.0              5   \n",
       "...                         ...                     ...   ...            ...   \n",
       "4314554  05/22/2021 05:31:37 AM  05/22/2021 05:31:37 AM  41.0              5   \n",
       "4314556  05/22/2021 06:46:33 AM  05/22/2021 06:46:33 AM   NaN              5   \n",
       "4314558  05/22/2021 06:56:31 AM                     NaN  27.0              5   \n",
       "4314559  05/22/2021 07:04:25 AM                     NaN  49.0              5   \n",
       "4314560  05/22/2021 06:54:13 AM                     NaN  19.0              5   \n",
       "\n",
       "         CREATED_DAY_OF_WEEK  CREATED_HOUR  DUPLICATE  LEGACY_RECORD  \n",
       "0                          2            11      False          False  \n",
       "4                          3            15      False          False  \n",
       "5                          4            15      False          False  \n",
       "7                          7            12      False          False  \n",
       "8                          7            14      False          False  \n",
       "...                      ...           ...        ...            ...  \n",
       "4314554                    7             5      False          False  \n",
       "4314556                    7             6      False          False  \n",
       "4314558                    7             6      False          False  \n",
       "4314559                    7             7      False          False  \n",
       "4314560                    7             6      False          False  \n",
       "\n",
       "[2660627 rows x 11 columns]"
      ]
     },
     "execution_count": 12,
     "metadata": {},
     "output_type": "execute_result"
    }
   ],
   "source": [
    "service_requests"
   ]
  },
  {
   "cell_type": "code",
   "execution_count": 13,
   "metadata": {
    "id": "F8xqua5nqpv8",
    "nbgrader": {
     "grade": false,
     "grade_id": "cell-41760f7611f17b25",
     "locked": false,
     "schema_version": 1,
     "solution": true
    }
   },
   "outputs": [],
   "source": [
    "aircraft_noise = service_requests[service_requests['SR_TYPE'] == 'Aircraft Noise Complaint'].index\n",
    "service_requests.drop(aircraft_noise , inplace=True)"
   ]
  },
  {
   "cell_type": "code",
   "execution_count": 14,
   "metadata": {
    "id": "YYAASKoHrJC6"
   },
   "outputs": [],
   "source": [
    "open = service_requests[service_requests['STATUS'] == 'Open'].index\n",
    "service_requests.drop(open , inplace=True)"
   ]
  },
  {
   "cell_type": "code",
   "execution_count": 15,
   "metadata": {
    "id": "S0jQHAfl3H3b"
   },
   "outputs": [],
   "source": [
    "open = service_requests[service_requests['STATUS'] == 'Canceled'].index\n",
    "service_requests.drop(open , inplace=True)"
   ]
  },
  {
   "cell_type": "code",
   "execution_count": 16,
   "metadata": {
    "id": "6JWY0bG8-wlh"
   },
   "outputs": [],
   "source": [
    "dupes = service_requests[service_requests['DUPLICATE'] == True].index\n",
    "service_requests.drop(dupes , inplace=True)"
   ]
  },
  {
   "cell_type": "code",
   "execution_count": 17,
   "metadata": {
    "id": "tfIpnVK2_ULl"
   },
   "outputs": [],
   "source": [
    "service_requests = service_requests.drop_duplicates(subset=['SR_NUMBER'])"
   ]
  },
  {
   "cell_type": "code",
   "execution_count": 18,
   "metadata": {
    "colab": {
     "base_uri": "https://localhost:8080/",
     "height": 406
    },
    "id": "5APop1paqeqS",
    "outputId": "3cff8f5f-f9dd-4c83-de48-ffd8987590c0"
   },
   "outputs": [
    {
     "data": {
      "text/html": [
       "<div>\n",
       "<style scoped>\n",
       "    .dataframe tbody tr th:only-of-type {\n",
       "        vertical-align: middle;\n",
       "    }\n",
       "\n",
       "    .dataframe tbody tr th {\n",
       "        vertical-align: top;\n",
       "    }\n",
       "\n",
       "    .dataframe thead th {\n",
       "        text-align: right;\n",
       "    }\n",
       "</style>\n",
       "<table border=\"1\" class=\"dataframe\">\n",
       "  <thead>\n",
       "    <tr style=\"text-align: right;\">\n",
       "      <th></th>\n",
       "      <th>SR_NUMBER</th>\n",
       "      <th>SR_TYPE</th>\n",
       "      <th>STATUS</th>\n",
       "      <th>CREATED_DATE</th>\n",
       "      <th>CLOSED_DATE</th>\n",
       "      <th>WARD</th>\n",
       "      <th>CREATED_MONTH</th>\n",
       "      <th>CREATED_DAY_OF_WEEK</th>\n",
       "      <th>CREATED_HOUR</th>\n",
       "      <th>DUPLICATE</th>\n",
       "      <th>LEGACY_RECORD</th>\n",
       "    </tr>\n",
       "  </thead>\n",
       "  <tbody>\n",
       "    <tr>\n",
       "      <th>0</th>\n",
       "      <td>SR20-04353987</td>\n",
       "      <td>Graffiti Removal Request</td>\n",
       "      <td>Completed</td>\n",
       "      <td>06/15/2020 11:14:56 AM</td>\n",
       "      <td>06/16/2020 08:07:09 AM</td>\n",
       "      <td>3.0</td>\n",
       "      <td>6</td>\n",
       "      <td>2</td>\n",
       "      <td>11</td>\n",
       "      <td>False</td>\n",
       "      <td>False</td>\n",
       "    </tr>\n",
       "    <tr>\n",
       "      <th>4</th>\n",
       "      <td>SR21-00306938</td>\n",
       "      <td>Sewer Cleaning Inspection Request</td>\n",
       "      <td>Completed</td>\n",
       "      <td>02/23/2021 03:40:35 PM</td>\n",
       "      <td>02/23/2021 05:17:18 PM</td>\n",
       "      <td>32.0</td>\n",
       "      <td>2</td>\n",
       "      <td>3</td>\n",
       "      <td>15</td>\n",
       "      <td>False</td>\n",
       "      <td>False</td>\n",
       "    </tr>\n",
       "    <tr>\n",
       "      <th>5</th>\n",
       "      <td>SR21-00442710</td>\n",
       "      <td>Dead Animal Pick-Up Request</td>\n",
       "      <td>Completed</td>\n",
       "      <td>03/17/2021 03:11:33 PM</td>\n",
       "      <td>03/18/2021 12:28:21 PM</td>\n",
       "      <td>8.0</td>\n",
       "      <td>3</td>\n",
       "      <td>4</td>\n",
       "      <td>15</td>\n",
       "      <td>False</td>\n",
       "      <td>False</td>\n",
       "    </tr>\n",
       "    <tr>\n",
       "      <th>7</th>\n",
       "      <td>SR20-04128618</td>\n",
       "      <td>Tree Removal Request</td>\n",
       "      <td>Completed</td>\n",
       "      <td>05/16/2020 12:42:07 PM</td>\n",
       "      <td>03/17/2021 03:06:11 PM</td>\n",
       "      <td>24.0</td>\n",
       "      <td>5</td>\n",
       "      <td>7</td>\n",
       "      <td>12</td>\n",
       "      <td>False</td>\n",
       "      <td>False</td>\n",
       "    </tr>\n",
       "    <tr>\n",
       "      <th>8</th>\n",
       "      <td>SR20-04129347</td>\n",
       "      <td>Tree Trim Request</td>\n",
       "      <td>Completed</td>\n",
       "      <td>05/16/2020 02:27:03 PM</td>\n",
       "      <td>03/17/2021 02:51:48 PM</td>\n",
       "      <td>24.0</td>\n",
       "      <td>5</td>\n",
       "      <td>7</td>\n",
       "      <td>14</td>\n",
       "      <td>False</td>\n",
       "      <td>False</td>\n",
       "    </tr>\n",
       "    <tr>\n",
       "      <th>...</th>\n",
       "      <td>...</td>\n",
       "      <td>...</td>\n",
       "      <td>...</td>\n",
       "      <td>...</td>\n",
       "      <td>...</td>\n",
       "      <td>...</td>\n",
       "      <td>...</td>\n",
       "      <td>...</td>\n",
       "      <td>...</td>\n",
       "      <td>...</td>\n",
       "      <td>...</td>\n",
       "    </tr>\n",
       "    <tr>\n",
       "      <th>4314066</th>\n",
       "      <td>SR21-00754026</td>\n",
       "      <td>Abandoned Vehicle Complaint</td>\n",
       "      <td>Completed</td>\n",
       "      <td>05/07/2021 12:43:51 PM</td>\n",
       "      <td>05/22/2021 04:10:24 AM</td>\n",
       "      <td>23.0</td>\n",
       "      <td>5</td>\n",
       "      <td>6</td>\n",
       "      <td>12</td>\n",
       "      <td>False</td>\n",
       "      <td>False</td>\n",
       "    </tr>\n",
       "    <tr>\n",
       "      <th>4314067</th>\n",
       "      <td>SR21-00758162</td>\n",
       "      <td>Abandoned Vehicle Complaint</td>\n",
       "      <td>Completed</td>\n",
       "      <td>05/08/2021 08:53:14 AM</td>\n",
       "      <td>05/22/2021 04:11:15 AM</td>\n",
       "      <td>10.0</td>\n",
       "      <td>5</td>\n",
       "      <td>7</td>\n",
       "      <td>8</td>\n",
       "      <td>False</td>\n",
       "      <td>False</td>\n",
       "    </tr>\n",
       "    <tr>\n",
       "      <th>4314075</th>\n",
       "      <td>SR21-00860358</td>\n",
       "      <td>Abandoned Vehicle Complaint</td>\n",
       "      <td>Completed</td>\n",
       "      <td>05/22/2021 01:33:06 AM</td>\n",
       "      <td>05/22/2021 02:34:50 AM</td>\n",
       "      <td>37.0</td>\n",
       "      <td>5</td>\n",
       "      <td>7</td>\n",
       "      <td>1</td>\n",
       "      <td>False</td>\n",
       "      <td>False</td>\n",
       "    </tr>\n",
       "    <tr>\n",
       "      <th>4314278</th>\n",
       "      <td>SR21-00860355</td>\n",
       "      <td>Abandoned Vehicle Complaint</td>\n",
       "      <td>Completed</td>\n",
       "      <td>05/22/2021 01:29:18 AM</td>\n",
       "      <td>05/22/2021 02:30:50 AM</td>\n",
       "      <td>37.0</td>\n",
       "      <td>5</td>\n",
       "      <td>7</td>\n",
       "      <td>1</td>\n",
       "      <td>False</td>\n",
       "      <td>False</td>\n",
       "    </tr>\n",
       "    <tr>\n",
       "      <th>4314389</th>\n",
       "      <td>SR20-04850450</td>\n",
       "      <td>Tree Trim Request</td>\n",
       "      <td>Completed</td>\n",
       "      <td>08/17/2020 01:27:33 PM</td>\n",
       "      <td>05/22/2021 07:12:16 AM</td>\n",
       "      <td>40.0</td>\n",
       "      <td>8</td>\n",
       "      <td>2</td>\n",
       "      <td>13</td>\n",
       "      <td>False</td>\n",
       "      <td>False</td>\n",
       "    </tr>\n",
       "  </tbody>\n",
       "</table>\n",
       "<p>1557421 rows × 11 columns</p>\n",
       "</div>"
      ],
      "text/plain": [
       "             SR_NUMBER                            SR_TYPE     STATUS  \\\n",
       "0        SR20-04353987           Graffiti Removal Request  Completed   \n",
       "4        SR21-00306938  Sewer Cleaning Inspection Request  Completed   \n",
       "5        SR21-00442710        Dead Animal Pick-Up Request  Completed   \n",
       "7        SR20-04128618               Tree Removal Request  Completed   \n",
       "8        SR20-04129347                  Tree Trim Request  Completed   \n",
       "...                ...                                ...        ...   \n",
       "4314066  SR21-00754026        Abandoned Vehicle Complaint  Completed   \n",
       "4314067  SR21-00758162        Abandoned Vehicle Complaint  Completed   \n",
       "4314075  SR21-00860358        Abandoned Vehicle Complaint  Completed   \n",
       "4314278  SR21-00860355        Abandoned Vehicle Complaint  Completed   \n",
       "4314389  SR20-04850450                  Tree Trim Request  Completed   \n",
       "\n",
       "                   CREATED_DATE             CLOSED_DATE  WARD  CREATED_MONTH  \\\n",
       "0        06/15/2020 11:14:56 AM  06/16/2020 08:07:09 AM   3.0              6   \n",
       "4        02/23/2021 03:40:35 PM  02/23/2021 05:17:18 PM  32.0              2   \n",
       "5        03/17/2021 03:11:33 PM  03/18/2021 12:28:21 PM   8.0              3   \n",
       "7        05/16/2020 12:42:07 PM  03/17/2021 03:06:11 PM  24.0              5   \n",
       "8        05/16/2020 02:27:03 PM  03/17/2021 02:51:48 PM  24.0              5   \n",
       "...                         ...                     ...   ...            ...   \n",
       "4314066  05/07/2021 12:43:51 PM  05/22/2021 04:10:24 AM  23.0              5   \n",
       "4314067  05/08/2021 08:53:14 AM  05/22/2021 04:11:15 AM  10.0              5   \n",
       "4314075  05/22/2021 01:33:06 AM  05/22/2021 02:34:50 AM  37.0              5   \n",
       "4314278  05/22/2021 01:29:18 AM  05/22/2021 02:30:50 AM  37.0              5   \n",
       "4314389  08/17/2020 01:27:33 PM  05/22/2021 07:12:16 AM  40.0              8   \n",
       "\n",
       "         CREATED_DAY_OF_WEEK  CREATED_HOUR  DUPLICATE  LEGACY_RECORD  \n",
       "0                          2            11      False          False  \n",
       "4                          3            15      False          False  \n",
       "5                          4            15      False          False  \n",
       "7                          7            12      False          False  \n",
       "8                          7            14      False          False  \n",
       "...                      ...           ...        ...            ...  \n",
       "4314066                    6            12      False          False  \n",
       "4314067                    7             8      False          False  \n",
       "4314075                    7             1      False          False  \n",
       "4314278                    7             1      False          False  \n",
       "4314389                    2            13      False          False  \n",
       "\n",
       "[1557421 rows x 11 columns]"
      ]
     },
     "execution_count": 18,
     "metadata": {},
     "output_type": "execute_result"
    }
   ],
   "source": [
    "service_requests"
   ]
  },
  {
   "cell_type": "code",
   "execution_count": 19,
   "metadata": {
    "colab": {
     "base_uri": "https://localhost:8080/"
    },
    "id": "IYOg7ndcMmFo",
    "outputId": "49eca6bd-c153-499c-dc39-285607b2885e"
   },
   "outputs": [
    {
     "data": {
      "text/plain": [
       "array(['Graffiti Removal Request', 'Sewer Cleaning Inspection Request',\n",
       "       'Dead Animal Pick-Up Request', 'Tree Removal Request',\n",
       "       'Tree Trim Request', 'Street Light Out Complaint',\n",
       "       'Water in Basement Complaint', 'City Vehicle Sticker Violation',\n",
       "       'Weed Removal Request', 'Tree Planting Request',\n",
       "       'Pothole in Street Complaint', 'Tree Debris Clean-Up Request',\n",
       "       'Fly Dumping Complaint', 'Water On Street Complaint',\n",
       "       'Rodent Baiting/Rat Complaint', 'Cab Feedback',\n",
       "       'Sanitation Code Violation',\n",
       "       'No Building Permit and Construction Violation',\n",
       "       'Nuisance Animal Complaint', 'Restaurant Complaint',\n",
       "       'Sign Repair Request - All Other Signs',\n",
       "       'Public Vehicle/Valet Complaint', 'Garbage Cart Maintenance',\n",
       "       'Stray Animal Complaint', 'Viaduct Light Out Complaint',\n",
       "       'Traffic Signal Out Complaint', 'Report an Injured Animal',\n",
       "       'Paid Sick Leave Violation', 'Vicious Animal Complaint',\n",
       "       'Alley Light Out Complaint', 'Alley Pothole Complaint',\n",
       "       'Building Violation', 'Abandoned Vehicle Complaint',\n",
       "       'Sewer Cave-In Inspection Request', 'Yard Waste Pick-Up Request',\n",
       "       'Sign Repair Request - Stop Sign',\n",
       "       'Business Complaints / Reopening Issue',\n",
       "       'Street Light Pole Damage Complaint', 'Street Cleaning Request',\n",
       "       'Porch Inspection Request', 'Vacant/Abandoned Building Complaint',\n",
       "       'Open Fire Hydrant Complaint', 'Pet Wellness Check Request',\n",
       "       'Water Quality Concern', 'Consumer Fraud Complaint',\n",
       "       'Missed Garbage Pick-Up Complaint',\n",
       "       'Liquor Establishment Complaint', 'No Water Complaint',\n",
       "       'Home Buyer Program Info Request', 'Clean Vacant Lot Request',\n",
       "       'Sign Repair Request - Do Not Enter Sign',\n",
       "       'Alley Sewer Inspection Request', 'Low Water Pressure Complaint',\n",
       "       'Vehicle Parked in Bike Lane Complaint', 'Bee/Wasp Removal',\n",
       "       'Inaccurate Fuel Pump Complaint', 'Wire Basket Request',\n",
       "       'Recycling Inspection Request', 'Consumer Retail Store Complaint',\n",
       "       'Dead Bird', 'Coyote Interaction Complaint',\n",
       "       'Sidewalk Inspection Request',\n",
       "       'Street Light On During Day Complaint',\n",
       "       'Sign Repair Request - One Way Sign', 'Animal In Trap Complaint',\n",
       "       'Bungalow/Vintage Home Information Request',\n",
       "       'Pushcart Food Vendor Complaint', 'E-Scooter',\n",
       "       'Snow – Uncleared Sidewalk Complaint',\n",
       "       'Shared Housing/Vacation Rental Complaint',\n",
       "       'Ridesharing Complaint', 'Snow - Object/Dibs Removal Request',\n",
       "       'Ice and Snow Removal Request', 'Cable TV Complaint',\n",
       "       'Bicycle Request/Complaint', 'Tobacco - General Complaint',\n",
       "       'Tobacco - Sale to Minors Complaint',\n",
       "       'Street Light Pole Door Missing Complaint',\n",
       "       'Outdated Merchandise Complaint', 'Sidewalk Cafe Complaint',\n",
       "       'Extreme Weather Notification', 'Lead Inspection Request',\n",
       "       'Renters and Foreclosure Complaint',\n",
       "       'Commercial Fire Safety Inspection Request',\n",
       "       'Protected Bike Lane - Debris Removal',\n",
       "       'Clean and Green Program Request', 'No Solicitation Complaint',\n",
       "       'Pavement Cave-In Inspection Request', 'Wage Complaint',\n",
       "       'Snow Removal - Protected Bike Lane or Bridge Sidewalk',\n",
       "       'Smokeless Tobacco at Sports Event Complaint',\n",
       "       'Inaccurate Retail Scales Complaint',\n",
       "       'Licensed Pharmaceutical Representative Complaint',\n",
       "       'Petcoke Dust Complaint'], dtype=object)"
      ]
     },
     "execution_count": 19,
     "metadata": {},
     "output_type": "execute_result"
    }
   ],
   "source": [
    "service_requests.SR_TYPE.unique()"
   ]
  },
  {
   "cell_type": "code",
   "execution_count": 20,
   "metadata": {
    "colab": {
     "base_uri": "https://localhost:8080/"
    },
    "id": "vRgTe69O_px0",
    "outputId": "1c16d741-5a51-46a7-b54e-aeb3c9c3b17c"
   },
   "outputs": [
    {
     "data": {
      "text/plain": [
       "array(['Completed'], dtype=object)"
      ]
     },
     "execution_count": 20,
     "metadata": {},
     "output_type": "execute_result"
    }
   ],
   "source": [
    "service_requests.STATUS.unique()"
   ]
  },
  {
   "cell_type": "code",
   "execution_count": 21,
   "metadata": {
    "colab": {
     "base_uri": "https://localhost:8080/"
    },
    "id": "q2Usb9_yNKjY",
    "outputId": "dc926e33-cea2-4a79-ba31-5bd08abbc075"
   },
   "outputs": [
    {
     "name": "stdout",
     "output_type": "stream",
     "text": [
      "1557421\n"
     ]
    }
   ],
   "source": [
    "index = service_requests.index\n",
    "number_of_rows = len(service_requests) \n",
    "print(number_of_rows)"
   ]
  },
  {
   "cell_type": "code",
   "execution_count": 22,
   "metadata": {
    "id": "EYqfrsDm3ixr"
   },
   "outputs": [],
   "source": [
    "service_requests_DATES = pd.to_datetime(service_requests.CREATED_DATE)"
   ]
  },
  {
   "cell_type": "code",
   "execution_count": 17,
   "metadata": {
    "colab": {
     "base_uri": "https://localhost:8080/"
    },
    "id": "cTPgszTx5DVg",
    "outputId": "d3b22912-3681-48ff-8588-b9699edab254"
   },
   "outputs": [
    {
     "data": {
      "text/plain": [
       "0   2020-06-15 11:14:56\n",
       "4   2021-02-23 15:40:35\n",
       "5   2021-03-17 15:11:33\n",
       "7   2020-05-16 12:42:07\n",
       "8   2020-05-16 14:27:03\n",
       "Name: CREATED_DATE, dtype: datetime64[ns]"
      ]
     },
     "execution_count": 17,
     "metadata": {},
     "output_type": "execute_result"
    }
   ],
   "source": [
    "service_requests_DATES.head()"
   ]
  },
  {
   "cell_type": "code",
   "execution_count": 23,
   "metadata": {
    "id": "K4-Ag20232QS"
   },
   "outputs": [],
   "source": [
    "service_requests_closed_dates = pd.to_datetime(service_requests.CLOSED_DATE)"
   ]
  },
  {
   "cell_type": "code",
   "execution_count": 24,
   "metadata": {
    "colab": {
     "base_uri": "https://localhost:8080/",
     "height": 197
    },
    "id": "MTOJ4YqBQDwu",
    "outputId": "2d9cc658-9706-4b3a-957e-791af2db412d"
   },
   "outputs": [
    {
     "data": {
      "text/html": [
       "<div>\n",
       "<style scoped>\n",
       "    .dataframe tbody tr th:only-of-type {\n",
       "        vertical-align: middle;\n",
       "    }\n",
       "\n",
       "    .dataframe tbody tr th {\n",
       "        vertical-align: top;\n",
       "    }\n",
       "\n",
       "    .dataframe thead th {\n",
       "        text-align: right;\n",
       "    }\n",
       "</style>\n",
       "<table border=\"1\" class=\"dataframe\">\n",
       "  <thead>\n",
       "    <tr style=\"text-align: right;\">\n",
       "      <th></th>\n",
       "      <th>0</th>\n",
       "    </tr>\n",
       "  </thead>\n",
       "  <tbody>\n",
       "    <tr>\n",
       "      <th>0</th>\n",
       "      <td>1252.0</td>\n",
       "    </tr>\n",
       "    <tr>\n",
       "      <th>4</th>\n",
       "      <td>96.0</td>\n",
       "    </tr>\n",
       "    <tr>\n",
       "      <th>5</th>\n",
       "      <td>1276.0</td>\n",
       "    </tr>\n",
       "    <tr>\n",
       "      <th>7</th>\n",
       "      <td>439344.0</td>\n",
       "    </tr>\n",
       "    <tr>\n",
       "      <th>8</th>\n",
       "      <td>439224.0</td>\n",
       "    </tr>\n",
       "  </tbody>\n",
       "</table>\n",
       "</div>"
      ],
      "text/plain": [
       "          0\n",
       "0    1252.0\n",
       "4      96.0\n",
       "5    1276.0\n",
       "7  439344.0\n",
       "8  439224.0"
      ]
     },
     "execution_count": 24,
     "metadata": {},
     "output_type": "execute_result"
    }
   ],
   "source": [
    "time_to_close = (service_requests_closed_dates - service_requests_DATES).astype('timedelta64[m]')\n",
    "\n",
    "duration_df = time_to_close.to_frame()\n",
    "duration_df.head()"
   ]
  },
  {
   "cell_type": "code",
   "execution_count": 25,
   "metadata": {
    "colab": {
     "base_uri": "https://localhost:8080/",
     "height": 197
    },
    "id": "dRT24s_3704O",
    "outputId": "7927d368-7f92-4f80-decb-34e8fd260479"
   },
   "outputs": [
    {
     "data": {
      "text/html": [
       "<div>\n",
       "<style scoped>\n",
       "    .dataframe tbody tr th:only-of-type {\n",
       "        vertical-align: middle;\n",
       "    }\n",
       "\n",
       "    .dataframe tbody tr th {\n",
       "        vertical-align: top;\n",
       "    }\n",
       "\n",
       "    .dataframe thead th {\n",
       "        text-align: right;\n",
       "    }\n",
       "</style>\n",
       "<table border=\"1\" class=\"dataframe\">\n",
       "  <thead>\n",
       "    <tr style=\"text-align: right;\">\n",
       "      <th></th>\n",
       "      <th>TIME_TO_COMPLETION (M)</th>\n",
       "    </tr>\n",
       "  </thead>\n",
       "  <tbody>\n",
       "    <tr>\n",
       "      <th>0</th>\n",
       "      <td>1252.0</td>\n",
       "    </tr>\n",
       "    <tr>\n",
       "      <th>4</th>\n",
       "      <td>96.0</td>\n",
       "    </tr>\n",
       "    <tr>\n",
       "      <th>5</th>\n",
       "      <td>1276.0</td>\n",
       "    </tr>\n",
       "    <tr>\n",
       "      <th>7</th>\n",
       "      <td>439344.0</td>\n",
       "    </tr>\n",
       "    <tr>\n",
       "      <th>8</th>\n",
       "      <td>439224.0</td>\n",
       "    </tr>\n",
       "  </tbody>\n",
       "</table>\n",
       "</div>"
      ],
      "text/plain": [
       "   TIME_TO_COMPLETION (M)\n",
       "0                  1252.0\n",
       "4                    96.0\n",
       "5                  1276.0\n",
       "7                439344.0\n",
       "8                439224.0"
      ]
     },
     "execution_count": 25,
     "metadata": {},
     "output_type": "execute_result"
    }
   ],
   "source": [
    "duration_df.rename(columns = {0:'TIME_TO_COMPLETION (M)'}, inplace = True)\n",
    "duration_df.head()"
   ]
  },
  {
   "cell_type": "code",
   "execution_count": 26,
   "metadata": {
    "colab": {
     "base_uri": "https://localhost:8080/"
    },
    "id": "_3jdTPm_6xag",
    "outputId": "902a8bcb-2e4f-4a8a-b475-72e111a7924e"
   },
   "outputs": [
    {
     "name": "stdout",
     "output_type": "stream",
     "text": [
      "TIME_TO_COMPLETION (M)\n"
     ]
    }
   ],
   "source": [
    "for col in duration_df.columns:\n",
    "    print(col)"
   ]
  },
  {
   "cell_type": "code",
   "execution_count": 27,
   "metadata": {
    "id": "1E2GTU0U7ofp"
   },
   "outputs": [],
   "source": [
    "service_requests_with_time = service_requests.join(duration_df, lsuffix='_caller', rsuffix='_other')"
   ]
  },
  {
   "cell_type": "code",
   "execution_count": 28,
   "metadata": {
    "colab": {
     "base_uri": "https://localhost:8080/"
    },
    "id": "3fAfH6pj9SW7",
    "outputId": "e36afaa1-e3f7-4d18-99a9-ed389a4db37b"
   },
   "outputs": [
    {
     "name": "stdout",
     "output_type": "stream",
     "text": [
      "SR_NUMBER\n",
      "SR_TYPE\n",
      "STATUS\n",
      "CREATED_DATE\n",
      "CLOSED_DATE\n",
      "WARD\n",
      "CREATED_MONTH\n",
      "CREATED_DAY_OF_WEEK\n",
      "CREATED_HOUR\n",
      "DUPLICATE\n",
      "LEGACY_RECORD\n",
      "TIME_TO_COMPLETION (M)\n"
     ]
    }
   ],
   "source": [
    "for col in service_requests_with_time.columns:\n",
    "    print(col)"
   ]
  },
  {
   "cell_type": "code",
   "execution_count": 29,
   "metadata": {
    "colab": {
     "base_uri": "https://localhost:8080/",
     "height": 406
    },
    "id": "0RzsmeSA84aH",
    "outputId": "9d05578e-91cc-43de-8f81-92b5aeb443fa",
    "scrolled": true
   },
   "outputs": [
    {
     "data": {
      "text/html": [
       "<div>\n",
       "<style scoped>\n",
       "    .dataframe tbody tr th:only-of-type {\n",
       "        vertical-align: middle;\n",
       "    }\n",
       "\n",
       "    .dataframe tbody tr th {\n",
       "        vertical-align: top;\n",
       "    }\n",
       "\n",
       "    .dataframe thead th {\n",
       "        text-align: right;\n",
       "    }\n",
       "</style>\n",
       "<table border=\"1\" class=\"dataframe\">\n",
       "  <thead>\n",
       "    <tr style=\"text-align: right;\">\n",
       "      <th></th>\n",
       "      <th>SR_NUMBER</th>\n",
       "      <th>SR_TYPE</th>\n",
       "      <th>STATUS</th>\n",
       "      <th>CREATED_DATE</th>\n",
       "      <th>CLOSED_DATE</th>\n",
       "      <th>WARD</th>\n",
       "      <th>CREATED_MONTH</th>\n",
       "      <th>CREATED_DAY_OF_WEEK</th>\n",
       "      <th>CREATED_HOUR</th>\n",
       "      <th>DUPLICATE</th>\n",
       "      <th>LEGACY_RECORD</th>\n",
       "      <th>TIME_TO_COMPLETION (M)</th>\n",
       "    </tr>\n",
       "  </thead>\n",
       "  <tbody>\n",
       "    <tr>\n",
       "      <th>369</th>\n",
       "      <td>SR19-01785343</td>\n",
       "      <td>Traffic Signal Out Complaint</td>\n",
       "      <td>Completed</td>\n",
       "      <td>06/24/2019 11:16:11 PM</td>\n",
       "      <td>06/24/2019 11:16:56 PM</td>\n",
       "      <td>1.0</td>\n",
       "      <td>6</td>\n",
       "      <td>2</td>\n",
       "      <td>23</td>\n",
       "      <td>False</td>\n",
       "      <td>False</td>\n",
       "      <td>0.0</td>\n",
       "    </tr>\n",
       "    <tr>\n",
       "      <th>541</th>\n",
       "      <td>SR19-01952856</td>\n",
       "      <td>Traffic Signal Out Complaint</td>\n",
       "      <td>Completed</td>\n",
       "      <td>07/15/2019 05:27:28 PM</td>\n",
       "      <td>07/15/2019 05:28:22 PM</td>\n",
       "      <td>32.0</td>\n",
       "      <td>7</td>\n",
       "      <td>2</td>\n",
       "      <td>17</td>\n",
       "      <td>False</td>\n",
       "      <td>False</td>\n",
       "      <td>0.0</td>\n",
       "    </tr>\n",
       "    <tr>\n",
       "      <th>818</th>\n",
       "      <td>SR19-02691026</td>\n",
       "      <td>Traffic Signal Out Complaint</td>\n",
       "      <td>Completed</td>\n",
       "      <td>10/09/2019 11:17:29 PM</td>\n",
       "      <td>10/09/2019 11:20:56 PM</td>\n",
       "      <td>9.0</td>\n",
       "      <td>10</td>\n",
       "      <td>4</td>\n",
       "      <td>23</td>\n",
       "      <td>False</td>\n",
       "      <td>False</td>\n",
       "      <td>3.0</td>\n",
       "    </tr>\n",
       "    <tr>\n",
       "      <th>979</th>\n",
       "      <td>SR19-01785551</td>\n",
       "      <td>Sewer Cleaning Inspection Request</td>\n",
       "      <td>Completed</td>\n",
       "      <td>06/25/2019 01:09:59 AM</td>\n",
       "      <td>06/25/2019 01:10:51 AM</td>\n",
       "      <td>28.0</td>\n",
       "      <td>6</td>\n",
       "      <td>3</td>\n",
       "      <td>1</td>\n",
       "      <td>False</td>\n",
       "      <td>False</td>\n",
       "      <td>0.0</td>\n",
       "    </tr>\n",
       "    <tr>\n",
       "      <th>1155</th>\n",
       "      <td>SR20-05657693</td>\n",
       "      <td>Graffiti Removal Request</td>\n",
       "      <td>Completed</td>\n",
       "      <td>12/18/2020 04:51:57 PM</td>\n",
       "      <td>12/18/2020 04:52:06 PM</td>\n",
       "      <td>50.0</td>\n",
       "      <td>12</td>\n",
       "      <td>6</td>\n",
       "      <td>16</td>\n",
       "      <td>False</td>\n",
       "      <td>False</td>\n",
       "      <td>0.0</td>\n",
       "    </tr>\n",
       "    <tr>\n",
       "      <th>...</th>\n",
       "      <td>...</td>\n",
       "      <td>...</td>\n",
       "      <td>...</td>\n",
       "      <td>...</td>\n",
       "      <td>...</td>\n",
       "      <td>...</td>\n",
       "      <td>...</td>\n",
       "      <td>...</td>\n",
       "      <td>...</td>\n",
       "      <td>...</td>\n",
       "      <td>...</td>\n",
       "      <td>...</td>\n",
       "    </tr>\n",
       "    <tr>\n",
       "      <th>4312450</th>\n",
       "      <td>SR21-00857888</td>\n",
       "      <td>Sign Repair Request - All Other Signs</td>\n",
       "      <td>Completed</td>\n",
       "      <td>05/21/2021 02:21:21 PM</td>\n",
       "      <td>05/21/2021 02:23:28 PM</td>\n",
       "      <td>12.0</td>\n",
       "      <td>5</td>\n",
       "      <td>6</td>\n",
       "      <td>14</td>\n",
       "      <td>False</td>\n",
       "      <td>False</td>\n",
       "      <td>2.0</td>\n",
       "    </tr>\n",
       "    <tr>\n",
       "      <th>4313587</th>\n",
       "      <td>SR21-00859630</td>\n",
       "      <td>Vehicle Parked in Bike Lane Complaint</td>\n",
       "      <td>Completed</td>\n",
       "      <td>05/21/2021 08:39:19 PM</td>\n",
       "      <td>05/21/2021 08:39:19 PM</td>\n",
       "      <td>45.0</td>\n",
       "      <td>5</td>\n",
       "      <td>6</td>\n",
       "      <td>20</td>\n",
       "      <td>False</td>\n",
       "      <td>False</td>\n",
       "      <td>0.0</td>\n",
       "    </tr>\n",
       "    <tr>\n",
       "      <th>4313691</th>\n",
       "      <td>SR21-00859711</td>\n",
       "      <td>Vehicle Parked in Bike Lane Complaint</td>\n",
       "      <td>Completed</td>\n",
       "      <td>05/21/2021 09:00:14 PM</td>\n",
       "      <td>05/21/2021 09:00:15 PM</td>\n",
       "      <td>39.0</td>\n",
       "      <td>5</td>\n",
       "      <td>6</td>\n",
       "      <td>21</td>\n",
       "      <td>False</td>\n",
       "      <td>False</td>\n",
       "      <td>0.0</td>\n",
       "    </tr>\n",
       "    <tr>\n",
       "      <th>4313776</th>\n",
       "      <td>SR21-00859828</td>\n",
       "      <td>Traffic Signal Out Complaint</td>\n",
       "      <td>Completed</td>\n",
       "      <td>05/21/2021 09:33:04 PM</td>\n",
       "      <td>05/21/2021 09:34:18 PM</td>\n",
       "      <td>8.0</td>\n",
       "      <td>5</td>\n",
       "      <td>6</td>\n",
       "      <td>21</td>\n",
       "      <td>False</td>\n",
       "      <td>False</td>\n",
       "      <td>1.0</td>\n",
       "    </tr>\n",
       "    <tr>\n",
       "      <th>4313804</th>\n",
       "      <td>SR21-00859848</td>\n",
       "      <td>Vehicle Parked in Bike Lane Complaint</td>\n",
       "      <td>Completed</td>\n",
       "      <td>05/21/2021 09:41:05 PM</td>\n",
       "      <td>05/21/2021 09:41:06 PM</td>\n",
       "      <td>45.0</td>\n",
       "      <td>5</td>\n",
       "      <td>6</td>\n",
       "      <td>21</td>\n",
       "      <td>False</td>\n",
       "      <td>False</td>\n",
       "      <td>0.0</td>\n",
       "    </tr>\n",
       "  </tbody>\n",
       "</table>\n",
       "<p>289976 rows × 12 columns</p>\n",
       "</div>"
      ],
      "text/plain": [
       "             SR_NUMBER                                SR_TYPE     STATUS  \\\n",
       "369      SR19-01785343           Traffic Signal Out Complaint  Completed   \n",
       "541      SR19-01952856           Traffic Signal Out Complaint  Completed   \n",
       "818      SR19-02691026           Traffic Signal Out Complaint  Completed   \n",
       "979      SR19-01785551      Sewer Cleaning Inspection Request  Completed   \n",
       "1155     SR20-05657693               Graffiti Removal Request  Completed   \n",
       "...                ...                                    ...        ...   \n",
       "4312450  SR21-00857888  Sign Repair Request - All Other Signs  Completed   \n",
       "4313587  SR21-00859630  Vehicle Parked in Bike Lane Complaint  Completed   \n",
       "4313691  SR21-00859711  Vehicle Parked in Bike Lane Complaint  Completed   \n",
       "4313776  SR21-00859828           Traffic Signal Out Complaint  Completed   \n",
       "4313804  SR21-00859848  Vehicle Parked in Bike Lane Complaint  Completed   \n",
       "\n",
       "                   CREATED_DATE             CLOSED_DATE  WARD  CREATED_MONTH  \\\n",
       "369      06/24/2019 11:16:11 PM  06/24/2019 11:16:56 PM   1.0              6   \n",
       "541      07/15/2019 05:27:28 PM  07/15/2019 05:28:22 PM  32.0              7   \n",
       "818      10/09/2019 11:17:29 PM  10/09/2019 11:20:56 PM   9.0             10   \n",
       "979      06/25/2019 01:09:59 AM  06/25/2019 01:10:51 AM  28.0              6   \n",
       "1155     12/18/2020 04:51:57 PM  12/18/2020 04:52:06 PM  50.0             12   \n",
       "...                         ...                     ...   ...            ...   \n",
       "4312450  05/21/2021 02:21:21 PM  05/21/2021 02:23:28 PM  12.0              5   \n",
       "4313587  05/21/2021 08:39:19 PM  05/21/2021 08:39:19 PM  45.0              5   \n",
       "4313691  05/21/2021 09:00:14 PM  05/21/2021 09:00:15 PM  39.0              5   \n",
       "4313776  05/21/2021 09:33:04 PM  05/21/2021 09:34:18 PM   8.0              5   \n",
       "4313804  05/21/2021 09:41:05 PM  05/21/2021 09:41:06 PM  45.0              5   \n",
       "\n",
       "         CREATED_DAY_OF_WEEK  CREATED_HOUR  DUPLICATE  LEGACY_RECORD  \\\n",
       "369                        2            23      False          False   \n",
       "541                        2            17      False          False   \n",
       "818                        4            23      False          False   \n",
       "979                        3             1      False          False   \n",
       "1155                       6            16      False          False   \n",
       "...                      ...           ...        ...            ...   \n",
       "4312450                    6            14      False          False   \n",
       "4313587                    6            20      False          False   \n",
       "4313691                    6            21      False          False   \n",
       "4313776                    6            21      False          False   \n",
       "4313804                    6            21      False          False   \n",
       "\n",
       "         TIME_TO_COMPLETION (M)  \n",
       "369                         0.0  \n",
       "541                         0.0  \n",
       "818                         3.0  \n",
       "979                         0.0  \n",
       "1155                        0.0  \n",
       "...                         ...  \n",
       "4312450                     2.0  \n",
       "4313587                     0.0  \n",
       "4313691                     0.0  \n",
       "4313776                     1.0  \n",
       "4313804                     0.0  \n",
       "\n",
       "[289976 rows x 12 columns]"
      ]
     },
     "execution_count": 29,
     "metadata": {},
     "output_type": "execute_result"
    }
   ],
   "source": [
    "service_requests_with_time.loc[service_requests_with_time['TIME_TO_COMPLETION (M)'] < 5]"
   ]
  },
  {
   "cell_type": "code",
   "execution_count": 30,
   "metadata": {
    "id": "x2V4AhPRKklm"
   },
   "outputs": [],
   "source": [
    "under_5 = service_requests_with_time[service_requests_with_time['TIME_TO_COMPLETION (M)'] < 5].index\n",
    "service_requests_with_time.drop(under_5 , inplace=True)"
   ]
  },
  {
   "cell_type": "code",
   "execution_count": 31,
   "metadata": {
    "colab": {
     "base_uri": "https://localhost:8080/",
     "height": 406
    },
    "id": "oT0adBFOLrRV",
    "outputId": "893c6f15-4444-4648-efa2-9ca4406d02c8"
   },
   "outputs": [
    {
     "data": {
      "text/html": [
       "<div>\n",
       "<style scoped>\n",
       "    .dataframe tbody tr th:only-of-type {\n",
       "        vertical-align: middle;\n",
       "    }\n",
       "\n",
       "    .dataframe tbody tr th {\n",
       "        vertical-align: top;\n",
       "    }\n",
       "\n",
       "    .dataframe thead th {\n",
       "        text-align: right;\n",
       "    }\n",
       "</style>\n",
       "<table border=\"1\" class=\"dataframe\">\n",
       "  <thead>\n",
       "    <tr style=\"text-align: right;\">\n",
       "      <th></th>\n",
       "      <th>SR_NUMBER</th>\n",
       "      <th>SR_TYPE</th>\n",
       "      <th>STATUS</th>\n",
       "      <th>CREATED_DATE</th>\n",
       "      <th>CLOSED_DATE</th>\n",
       "      <th>WARD</th>\n",
       "      <th>CREATED_MONTH</th>\n",
       "      <th>CREATED_DAY_OF_WEEK</th>\n",
       "      <th>CREATED_HOUR</th>\n",
       "      <th>DUPLICATE</th>\n",
       "      <th>LEGACY_RECORD</th>\n",
       "      <th>TIME_TO_COMPLETION (M)</th>\n",
       "    </tr>\n",
       "  </thead>\n",
       "  <tbody>\n",
       "    <tr>\n",
       "      <th>0</th>\n",
       "      <td>SR20-04353987</td>\n",
       "      <td>Graffiti Removal Request</td>\n",
       "      <td>Completed</td>\n",
       "      <td>06/15/2020 11:14:56 AM</td>\n",
       "      <td>06/16/2020 08:07:09 AM</td>\n",
       "      <td>3.0</td>\n",
       "      <td>6</td>\n",
       "      <td>2</td>\n",
       "      <td>11</td>\n",
       "      <td>False</td>\n",
       "      <td>False</td>\n",
       "      <td>1252.0</td>\n",
       "    </tr>\n",
       "    <tr>\n",
       "      <th>4</th>\n",
       "      <td>SR21-00306938</td>\n",
       "      <td>Sewer Cleaning Inspection Request</td>\n",
       "      <td>Completed</td>\n",
       "      <td>02/23/2021 03:40:35 PM</td>\n",
       "      <td>02/23/2021 05:17:18 PM</td>\n",
       "      <td>32.0</td>\n",
       "      <td>2</td>\n",
       "      <td>3</td>\n",
       "      <td>15</td>\n",
       "      <td>False</td>\n",
       "      <td>False</td>\n",
       "      <td>96.0</td>\n",
       "    </tr>\n",
       "    <tr>\n",
       "      <th>5</th>\n",
       "      <td>SR21-00442710</td>\n",
       "      <td>Dead Animal Pick-Up Request</td>\n",
       "      <td>Completed</td>\n",
       "      <td>03/17/2021 03:11:33 PM</td>\n",
       "      <td>03/18/2021 12:28:21 PM</td>\n",
       "      <td>8.0</td>\n",
       "      <td>3</td>\n",
       "      <td>4</td>\n",
       "      <td>15</td>\n",
       "      <td>False</td>\n",
       "      <td>False</td>\n",
       "      <td>1276.0</td>\n",
       "    </tr>\n",
       "    <tr>\n",
       "      <th>7</th>\n",
       "      <td>SR20-04128618</td>\n",
       "      <td>Tree Removal Request</td>\n",
       "      <td>Completed</td>\n",
       "      <td>05/16/2020 12:42:07 PM</td>\n",
       "      <td>03/17/2021 03:06:11 PM</td>\n",
       "      <td>24.0</td>\n",
       "      <td>5</td>\n",
       "      <td>7</td>\n",
       "      <td>12</td>\n",
       "      <td>False</td>\n",
       "      <td>False</td>\n",
       "      <td>439344.0</td>\n",
       "    </tr>\n",
       "    <tr>\n",
       "      <th>8</th>\n",
       "      <td>SR20-04129347</td>\n",
       "      <td>Tree Trim Request</td>\n",
       "      <td>Completed</td>\n",
       "      <td>05/16/2020 02:27:03 PM</td>\n",
       "      <td>03/17/2021 02:51:48 PM</td>\n",
       "      <td>24.0</td>\n",
       "      <td>5</td>\n",
       "      <td>7</td>\n",
       "      <td>14</td>\n",
       "      <td>False</td>\n",
       "      <td>False</td>\n",
       "      <td>439224.0</td>\n",
       "    </tr>\n",
       "    <tr>\n",
       "      <th>...</th>\n",
       "      <td>...</td>\n",
       "      <td>...</td>\n",
       "      <td>...</td>\n",
       "      <td>...</td>\n",
       "      <td>...</td>\n",
       "      <td>...</td>\n",
       "      <td>...</td>\n",
       "      <td>...</td>\n",
       "      <td>...</td>\n",
       "      <td>...</td>\n",
       "      <td>...</td>\n",
       "      <td>...</td>\n",
       "    </tr>\n",
       "    <tr>\n",
       "      <th>4314066</th>\n",
       "      <td>SR21-00754026</td>\n",
       "      <td>Abandoned Vehicle Complaint</td>\n",
       "      <td>Completed</td>\n",
       "      <td>05/07/2021 12:43:51 PM</td>\n",
       "      <td>05/22/2021 04:10:24 AM</td>\n",
       "      <td>23.0</td>\n",
       "      <td>5</td>\n",
       "      <td>6</td>\n",
       "      <td>12</td>\n",
       "      <td>False</td>\n",
       "      <td>False</td>\n",
       "      <td>21086.0</td>\n",
       "    </tr>\n",
       "    <tr>\n",
       "      <th>4314067</th>\n",
       "      <td>SR21-00758162</td>\n",
       "      <td>Abandoned Vehicle Complaint</td>\n",
       "      <td>Completed</td>\n",
       "      <td>05/08/2021 08:53:14 AM</td>\n",
       "      <td>05/22/2021 04:11:15 AM</td>\n",
       "      <td>10.0</td>\n",
       "      <td>5</td>\n",
       "      <td>7</td>\n",
       "      <td>8</td>\n",
       "      <td>False</td>\n",
       "      <td>False</td>\n",
       "      <td>19878.0</td>\n",
       "    </tr>\n",
       "    <tr>\n",
       "      <th>4314075</th>\n",
       "      <td>SR21-00860358</td>\n",
       "      <td>Abandoned Vehicle Complaint</td>\n",
       "      <td>Completed</td>\n",
       "      <td>05/22/2021 01:33:06 AM</td>\n",
       "      <td>05/22/2021 02:34:50 AM</td>\n",
       "      <td>37.0</td>\n",
       "      <td>5</td>\n",
       "      <td>7</td>\n",
       "      <td>1</td>\n",
       "      <td>False</td>\n",
       "      <td>False</td>\n",
       "      <td>61.0</td>\n",
       "    </tr>\n",
       "    <tr>\n",
       "      <th>4314278</th>\n",
       "      <td>SR21-00860355</td>\n",
       "      <td>Abandoned Vehicle Complaint</td>\n",
       "      <td>Completed</td>\n",
       "      <td>05/22/2021 01:29:18 AM</td>\n",
       "      <td>05/22/2021 02:30:50 AM</td>\n",
       "      <td>37.0</td>\n",
       "      <td>5</td>\n",
       "      <td>7</td>\n",
       "      <td>1</td>\n",
       "      <td>False</td>\n",
       "      <td>False</td>\n",
       "      <td>61.0</td>\n",
       "    </tr>\n",
       "    <tr>\n",
       "      <th>4314389</th>\n",
       "      <td>SR20-04850450</td>\n",
       "      <td>Tree Trim Request</td>\n",
       "      <td>Completed</td>\n",
       "      <td>08/17/2020 01:27:33 PM</td>\n",
       "      <td>05/22/2021 07:12:16 AM</td>\n",
       "      <td>40.0</td>\n",
       "      <td>8</td>\n",
       "      <td>2</td>\n",
       "      <td>13</td>\n",
       "      <td>False</td>\n",
       "      <td>False</td>\n",
       "      <td>399944.0</td>\n",
       "    </tr>\n",
       "  </tbody>\n",
       "</table>\n",
       "<p>1267445 rows × 12 columns</p>\n",
       "</div>"
      ],
      "text/plain": [
       "             SR_NUMBER                            SR_TYPE     STATUS  \\\n",
       "0        SR20-04353987           Graffiti Removal Request  Completed   \n",
       "4        SR21-00306938  Sewer Cleaning Inspection Request  Completed   \n",
       "5        SR21-00442710        Dead Animal Pick-Up Request  Completed   \n",
       "7        SR20-04128618               Tree Removal Request  Completed   \n",
       "8        SR20-04129347                  Tree Trim Request  Completed   \n",
       "...                ...                                ...        ...   \n",
       "4314066  SR21-00754026        Abandoned Vehicle Complaint  Completed   \n",
       "4314067  SR21-00758162        Abandoned Vehicle Complaint  Completed   \n",
       "4314075  SR21-00860358        Abandoned Vehicle Complaint  Completed   \n",
       "4314278  SR21-00860355        Abandoned Vehicle Complaint  Completed   \n",
       "4314389  SR20-04850450                  Tree Trim Request  Completed   \n",
       "\n",
       "                   CREATED_DATE             CLOSED_DATE  WARD  CREATED_MONTH  \\\n",
       "0        06/15/2020 11:14:56 AM  06/16/2020 08:07:09 AM   3.0              6   \n",
       "4        02/23/2021 03:40:35 PM  02/23/2021 05:17:18 PM  32.0              2   \n",
       "5        03/17/2021 03:11:33 PM  03/18/2021 12:28:21 PM   8.0              3   \n",
       "7        05/16/2020 12:42:07 PM  03/17/2021 03:06:11 PM  24.0              5   \n",
       "8        05/16/2020 02:27:03 PM  03/17/2021 02:51:48 PM  24.0              5   \n",
       "...                         ...                     ...   ...            ...   \n",
       "4314066  05/07/2021 12:43:51 PM  05/22/2021 04:10:24 AM  23.0              5   \n",
       "4314067  05/08/2021 08:53:14 AM  05/22/2021 04:11:15 AM  10.0              5   \n",
       "4314075  05/22/2021 01:33:06 AM  05/22/2021 02:34:50 AM  37.0              5   \n",
       "4314278  05/22/2021 01:29:18 AM  05/22/2021 02:30:50 AM  37.0              5   \n",
       "4314389  08/17/2020 01:27:33 PM  05/22/2021 07:12:16 AM  40.0              8   \n",
       "\n",
       "         CREATED_DAY_OF_WEEK  CREATED_HOUR  DUPLICATE  LEGACY_RECORD  \\\n",
       "0                          2            11      False          False   \n",
       "4                          3            15      False          False   \n",
       "5                          4            15      False          False   \n",
       "7                          7            12      False          False   \n",
       "8                          7            14      False          False   \n",
       "...                      ...           ...        ...            ...   \n",
       "4314066                    6            12      False          False   \n",
       "4314067                    7             8      False          False   \n",
       "4314075                    7             1      False          False   \n",
       "4314278                    7             1      False          False   \n",
       "4314389                    2            13      False          False   \n",
       "\n",
       "         TIME_TO_COMPLETION (M)  \n",
       "0                        1252.0  \n",
       "4                          96.0  \n",
       "5                        1276.0  \n",
       "7                      439344.0  \n",
       "8                      439224.0  \n",
       "...                         ...  \n",
       "4314066                 21086.0  \n",
       "4314067                 19878.0  \n",
       "4314075                    61.0  \n",
       "4314278                    61.0  \n",
       "4314389                399944.0  \n",
       "\n",
       "[1267445 rows x 12 columns]"
      ]
     },
     "execution_count": 31,
     "metadata": {},
     "output_type": "execute_result"
    }
   ],
   "source": [
    "service_requests_with_time"
   ]
  },
  {
   "cell_type": "code",
   "execution_count": 32,
   "metadata": {
    "id": "XtW042b2hi0D",
    "outputId": "0d392a06-a221-4bba-d313-2e96c6c258db"
   },
   "outputs": [
    {
     "data": {
      "text/plain": [
       "SR_NUMBER                    0\n",
       "SR_TYPE                      0\n",
       "STATUS                       0\n",
       "CREATED_DATE                 0\n",
       "CLOSED_DATE                  0\n",
       "WARD                      5288\n",
       "CREATED_MONTH                0\n",
       "CREATED_DAY_OF_WEEK          0\n",
       "CREATED_HOUR                 0\n",
       "DUPLICATE                    0\n",
       "LEGACY_RECORD                0\n",
       "TIME_TO_COMPLETION (M)       0\n",
       "dtype: int64"
      ]
     },
     "execution_count": 32,
     "metadata": {},
     "output_type": "execute_result"
    }
   ],
   "source": [
    "#  finding all the null values in the dataset\n",
    "service_requests_with_time.isnull().sum(axis = 0)"
   ]
  },
  {
   "cell_type": "code",
   "execution_count": 33,
   "metadata": {},
   "outputs": [
    {
     "data": {
      "text/html": [
       "<div>\n",
       "<style scoped>\n",
       "    .dataframe tbody tr th:only-of-type {\n",
       "        vertical-align: middle;\n",
       "    }\n",
       "\n",
       "    .dataframe tbody tr th {\n",
       "        vertical-align: top;\n",
       "    }\n",
       "\n",
       "    .dataframe thead th {\n",
       "        text-align: right;\n",
       "    }\n",
       "</style>\n",
       "<table border=\"1\" class=\"dataframe\">\n",
       "  <thead>\n",
       "    <tr style=\"text-align: right;\">\n",
       "      <th></th>\n",
       "      <th>SR_TYPE</th>\n",
       "    </tr>\n",
       "  </thead>\n",
       "  <tbody>\n",
       "    <tr>\n",
       "      <th>0</th>\n",
       "      <td>Graffiti Removal Request</td>\n",
       "    </tr>\n",
       "    <tr>\n",
       "      <th>4</th>\n",
       "      <td>Sewer Cleaning Inspection Request</td>\n",
       "    </tr>\n",
       "    <tr>\n",
       "      <th>5</th>\n",
       "      <td>Dead Animal Pick-Up Request</td>\n",
       "    </tr>\n",
       "    <tr>\n",
       "      <th>7</th>\n",
       "      <td>Tree Removal Request</td>\n",
       "    </tr>\n",
       "    <tr>\n",
       "      <th>8</th>\n",
       "      <td>Tree Trim Request</td>\n",
       "    </tr>\n",
       "    <tr>\n",
       "      <th>...</th>\n",
       "      <td>...</td>\n",
       "    </tr>\n",
       "    <tr>\n",
       "      <th>4314066</th>\n",
       "      <td>Abandoned Vehicle Complaint</td>\n",
       "    </tr>\n",
       "    <tr>\n",
       "      <th>4314067</th>\n",
       "      <td>Abandoned Vehicle Complaint</td>\n",
       "    </tr>\n",
       "    <tr>\n",
       "      <th>4314075</th>\n",
       "      <td>Abandoned Vehicle Complaint</td>\n",
       "    </tr>\n",
       "    <tr>\n",
       "      <th>4314278</th>\n",
       "      <td>Abandoned Vehicle Complaint</td>\n",
       "    </tr>\n",
       "    <tr>\n",
       "      <th>4314389</th>\n",
       "      <td>Tree Trim Request</td>\n",
       "    </tr>\n",
       "  </tbody>\n",
       "</table>\n",
       "<p>1267445 rows × 1 columns</p>\n",
       "</div>"
      ],
      "text/plain": [
       "                                   SR_TYPE\n",
       "0                 Graffiti Removal Request\n",
       "4        Sewer Cleaning Inspection Request\n",
       "5              Dead Animal Pick-Up Request\n",
       "7                     Tree Removal Request\n",
       "8                        Tree Trim Request\n",
       "...                                    ...\n",
       "4314066        Abandoned Vehicle Complaint\n",
       "4314067        Abandoned Vehicle Complaint\n",
       "4314075        Abandoned Vehicle Complaint\n",
       "4314278        Abandoned Vehicle Complaint\n",
       "4314389                  Tree Trim Request\n",
       "\n",
       "[1267445 rows x 1 columns]"
      ]
     },
     "execution_count": 33,
     "metadata": {},
     "output_type": "execute_result"
    }
   ],
   "source": [
    "sr_types_df = service_requests_with_time[['SR_TYPE']]\n",
    "sr_types_df"
   ]
  },
  {
   "cell_type": "code",
   "execution_count": 34,
   "metadata": {},
   "outputs": [],
   "source": [
    "sr_types_dupes = sr_types_df.drop_duplicates()"
   ]
  },
  {
   "cell_type": "code",
   "execution_count": 35,
   "metadata": {},
   "outputs": [
    {
     "data": {
      "text/html": [
       "<div>\n",
       "<style scoped>\n",
       "    .dataframe tbody tr th:only-of-type {\n",
       "        vertical-align: middle;\n",
       "    }\n",
       "\n",
       "    .dataframe tbody tr th {\n",
       "        vertical-align: top;\n",
       "    }\n",
       "\n",
       "    .dataframe thead th {\n",
       "        text-align: right;\n",
       "    }\n",
       "</style>\n",
       "<table border=\"1\" class=\"dataframe\">\n",
       "  <thead>\n",
       "    <tr style=\"text-align: right;\">\n",
       "      <th></th>\n",
       "      <th>SR_TYPE</th>\n",
       "    </tr>\n",
       "  </thead>\n",
       "  <tbody>\n",
       "    <tr>\n",
       "      <th>0</th>\n",
       "      <td>Graffiti Removal Request</td>\n",
       "    </tr>\n",
       "    <tr>\n",
       "      <th>4</th>\n",
       "      <td>Sewer Cleaning Inspection Request</td>\n",
       "    </tr>\n",
       "    <tr>\n",
       "      <th>5</th>\n",
       "      <td>Dead Animal Pick-Up Request</td>\n",
       "    </tr>\n",
       "    <tr>\n",
       "      <th>7</th>\n",
       "      <td>Tree Removal Request</td>\n",
       "    </tr>\n",
       "    <tr>\n",
       "      <th>8</th>\n",
       "      <td>Tree Trim Request</td>\n",
       "    </tr>\n",
       "    <tr>\n",
       "      <th>...</th>\n",
       "      <td>...</td>\n",
       "    </tr>\n",
       "    <tr>\n",
       "      <th>150055</th>\n",
       "      <td>Snow Removal - Protected Bike Lane or Bridge S...</td>\n",
       "    </tr>\n",
       "    <tr>\n",
       "      <th>221660</th>\n",
       "      <td>Smokeless Tobacco at Sports Event Complaint</td>\n",
       "    </tr>\n",
       "    <tr>\n",
       "      <th>392135</th>\n",
       "      <td>Inaccurate Retail Scales Complaint</td>\n",
       "    </tr>\n",
       "    <tr>\n",
       "      <th>1006124</th>\n",
       "      <td>Licensed Pharmaceutical Representative Complaint</td>\n",
       "    </tr>\n",
       "    <tr>\n",
       "      <th>1633550</th>\n",
       "      <td>Petcoke Dust Complaint</td>\n",
       "    </tr>\n",
       "  </tbody>\n",
       "</table>\n",
       "<p>91 rows × 1 columns</p>\n",
       "</div>"
      ],
      "text/plain": [
       "                                                   SR_TYPE\n",
       "0                                 Graffiti Removal Request\n",
       "4                        Sewer Cleaning Inspection Request\n",
       "5                              Dead Animal Pick-Up Request\n",
       "7                                     Tree Removal Request\n",
       "8                                        Tree Trim Request\n",
       "...                                                    ...\n",
       "150055   Snow Removal - Protected Bike Lane or Bridge S...\n",
       "221660         Smokeless Tobacco at Sports Event Complaint\n",
       "392135                  Inaccurate Retail Scales Complaint\n",
       "1006124   Licensed Pharmaceutical Representative Complaint\n",
       "1633550                             Petcoke Dust Complaint\n",
       "\n",
       "[91 rows x 1 columns]"
      ]
     },
     "execution_count": 35,
     "metadata": {},
     "output_type": "execute_result"
    }
   ],
   "source": [
    "sr_types_dupes"
   ]
  },
  {
   "cell_type": "code",
   "execution_count": 36,
   "metadata": {},
   "outputs": [],
   "source": [
    "ward_df = service_requests_with_time[['WARD']]"
   ]
  },
  {
   "cell_type": "code",
   "execution_count": 37,
   "metadata": {},
   "outputs": [],
   "source": [
    "ward_dupes = ward_df.drop_duplicates()"
   ]
  },
  {
   "cell_type": "code",
   "execution_count": 38,
   "metadata": {},
   "outputs": [],
   "source": [
    "sr_types_dupes.to_csv('sr_types_list.csv')"
   ]
  },
  {
   "cell_type": "code",
   "execution_count": 39,
   "metadata": {},
   "outputs": [],
   "source": [
    "ward_dupes.to_csv('wards_list.csv')"
   ]
  },
  {
   "cell_type": "code",
   "execution_count": 40,
   "metadata": {
    "id": "A0pStOeEhi0D"
   },
   "outputs": [],
   "source": [
    "service_requests_with_time = service_requests_with_time[service_requests_with_time.WARD.notna()]"
   ]
  },
  {
   "cell_type": "code",
   "execution_count": 41,
   "metadata": {
    "id": "WfF-aejnfwhs",
    "nbgrader": {
     "grade": false,
     "grade_id": "cell-a61368ced39885a2",
     "locked": false,
     "schema_version": 1,
     "solution": true
    },
    "outputId": "ac61a12d-86f3-4013-db4e-9b77238c5974"
   },
   "outputs": [
    {
     "name": "stdout",
     "output_type": "stream",
     "text": [
      "(1262157, 95) (1262157, 1)\n"
     ]
    }
   ],
   "source": [
    "# Assign X (data) and y (target)\n",
    "\n",
    "### BEGIN SOLUTION\n",
    "X = pd.get_dummies(service_requests_with_time[['SR_TYPE', 'WARD', 'CREATED_MONTH', 'CREATED_DAY_OF_WEEK', 'CREATED_HOUR']])\n",
    "y = service_requests_with_time[\"TIME_TO_COMPLETION (M)\"].values.reshape(-1, 1)\n",
    "print(X.shape, y.shape)\n",
    "### END SOLUTION"
   ]
  },
  {
   "cell_type": "code",
   "execution_count": 42,
   "metadata": {
    "colab": {
     "base_uri": "https://localhost:8080/",
     "height": 510
    },
    "id": "8CdUS38wQInp",
    "outputId": "049d5459-3584-4e23-8d60-2490a313a5d3"
   },
   "outputs": [
    {
     "data": {
      "text/plain": [
       "WARD                                                             float64\n",
       "CREATED_MONTH                                                      int64\n",
       "CREATED_DAY_OF_WEEK                                                int64\n",
       "CREATED_HOUR                                                       int64\n",
       "SR_TYPE_Abandoned Vehicle Complaint                                uint8\n",
       "SR_TYPE_Alley Light Out Complaint                                  uint8\n",
       "SR_TYPE_Alley Pothole Complaint                                    uint8\n",
       "SR_TYPE_Alley Sewer Inspection Request                             uint8\n",
       "SR_TYPE_Animal In Trap Complaint                                   uint8\n",
       "SR_TYPE_Bee/Wasp Removal                                           uint8\n",
       "SR_TYPE_Bicycle Request/Complaint                                  uint8\n",
       "SR_TYPE_Building Violation                                         uint8\n",
       "SR_TYPE_Bungalow/Vintage Home Information Request                  uint8\n",
       "SR_TYPE_Business Complaints / Reopening Issue                      uint8\n",
       "SR_TYPE_Cab Feedback                                               uint8\n",
       "SR_TYPE_Cable TV Complaint                                         uint8\n",
       "SR_TYPE_City Vehicle Sticker Violation                             uint8\n",
       "SR_TYPE_Clean Vacant Lot Request                                   uint8\n",
       "SR_TYPE_Clean and Green Program Request                            uint8\n",
       "SR_TYPE_Commercial Fire Safety Inspection Request                  uint8\n",
       "SR_TYPE_Consumer Fraud Complaint                                   uint8\n",
       "SR_TYPE_Consumer Retail Store Complaint                            uint8\n",
       "SR_TYPE_Coyote Interaction Complaint                               uint8\n",
       "SR_TYPE_Dead Animal Pick-Up Request                                uint8\n",
       "SR_TYPE_Dead Bird                                                  uint8\n",
       "SR_TYPE_Fly Dumping Complaint                                      uint8\n",
       "SR_TYPE_Garbage Cart Maintenance                                   uint8\n",
       "SR_TYPE_Graffiti Removal Request                                   uint8\n",
       "SR_TYPE_Home Buyer Program Info Request                            uint8\n",
       "SR_TYPE_Ice and Snow Removal Request                               uint8\n",
       "SR_TYPE_Inaccurate Fuel Pump Complaint                             uint8\n",
       "SR_TYPE_Inaccurate Retail Scales Complaint                         uint8\n",
       "SR_TYPE_Lead Inspection Request                                    uint8\n",
       "SR_TYPE_Licensed Pharmaceutical Representative Complaint           uint8\n",
       "SR_TYPE_Liquor Establishment Complaint                             uint8\n",
       "SR_TYPE_Low Water Pressure Complaint                               uint8\n",
       "SR_TYPE_Missed Garbage Pick-Up Complaint                           uint8\n",
       "SR_TYPE_No Building Permit and Construction Violation              uint8\n",
       "SR_TYPE_No Solicitation Complaint                                  uint8\n",
       "SR_TYPE_No Water Complaint                                         uint8\n",
       "SR_TYPE_Nuisance Animal Complaint                                  uint8\n",
       "SR_TYPE_Open Fire Hydrant Complaint                                uint8\n",
       "SR_TYPE_Outdated Merchandise Complaint                             uint8\n",
       "SR_TYPE_Paid Sick Leave Violation                                  uint8\n",
       "SR_TYPE_Pavement Cave-In Inspection Request                        uint8\n",
       "SR_TYPE_Pet Wellness Check Request                                 uint8\n",
       "SR_TYPE_Petcoke Dust Complaint                                     uint8\n",
       "SR_TYPE_Porch Inspection Request                                   uint8\n",
       "SR_TYPE_Pothole in Street Complaint                                uint8\n",
       "SR_TYPE_Protected Bike Lane - Debris Removal                       uint8\n",
       "SR_TYPE_Public Vehicle/Valet Complaint                             uint8\n",
       "SR_TYPE_Pushcart Food Vendor Complaint                             uint8\n",
       "SR_TYPE_Recycling Inspection Request                               uint8\n",
       "SR_TYPE_Renters and Foreclosure Complaint                          uint8\n",
       "SR_TYPE_Report an Injured Animal                                   uint8\n",
       "SR_TYPE_Restaurant Complaint                                       uint8\n",
       "SR_TYPE_Ridesharing Complaint                                      uint8\n",
       "SR_TYPE_Rodent Baiting/Rat Complaint                               uint8\n",
       "SR_TYPE_Sanitation Code Violation                                  uint8\n",
       "SR_TYPE_Sewer Cave-In Inspection Request                           uint8\n",
       "SR_TYPE_Sewer Cleaning Inspection Request                          uint8\n",
       "SR_TYPE_Shared Housing/Vacation Rental Complaint                   uint8\n",
       "SR_TYPE_Sidewalk Cafe Complaint                                    uint8\n",
       "SR_TYPE_Sidewalk Inspection Request                                uint8\n",
       "SR_TYPE_Sign Repair Request - All Other Signs                      uint8\n",
       "SR_TYPE_Sign Repair Request - Do Not Enter Sign                    uint8\n",
       "SR_TYPE_Sign Repair Request - One Way Sign                         uint8\n",
       "SR_TYPE_Sign Repair Request - Stop Sign                            uint8\n",
       "SR_TYPE_Smokeless Tobacco at Sports Event Complaint                uint8\n",
       "SR_TYPE_Snow - Object/Dibs Removal Request                         uint8\n",
       "SR_TYPE_Snow Removal - Protected Bike Lane or Bridge Sidewalk      uint8\n",
       "SR_TYPE_Snow – Uncleared Sidewalk Complaint                        uint8\n",
       "SR_TYPE_Stray Animal Complaint                                     uint8\n",
       "SR_TYPE_Street Cleaning Request                                    uint8\n",
       "SR_TYPE_Street Light On During Day Complaint                       uint8\n",
       "SR_TYPE_Street Light Out Complaint                                 uint8\n",
       "SR_TYPE_Street Light Pole Damage Complaint                         uint8\n",
       "SR_TYPE_Street Light Pole Door Missing Complaint                   uint8\n",
       "SR_TYPE_Tobacco - General Complaint                                uint8\n",
       "SR_TYPE_Tobacco - Sale to Minors Complaint                         uint8\n",
       "SR_TYPE_Traffic Signal Out Complaint                               uint8\n",
       "SR_TYPE_Tree Debris Clean-Up Request                               uint8\n",
       "SR_TYPE_Tree Planting Request                                      uint8\n",
       "SR_TYPE_Tree Removal Request                                       uint8\n",
       "SR_TYPE_Tree Trim Request                                          uint8\n",
       "SR_TYPE_Vacant/Abandoned Building Complaint                        uint8\n",
       "SR_TYPE_Viaduct Light Out Complaint                                uint8\n",
       "SR_TYPE_Vicious Animal Complaint                                   uint8\n",
       "SR_TYPE_Wage Complaint                                             uint8\n",
       "SR_TYPE_Water On Street Complaint                                  uint8\n",
       "SR_TYPE_Water Quality Concern                                      uint8\n",
       "SR_TYPE_Water in Basement Complaint                                uint8\n",
       "SR_TYPE_Weed Removal Request                                       uint8\n",
       "SR_TYPE_Wire Basket Request                                        uint8\n",
       "SR_TYPE_Yard Waste Pick-Up Request                                 uint8\n",
       "dtype: object"
      ]
     },
     "execution_count": 42,
     "metadata": {},
     "output_type": "execute_result"
    }
   ],
   "source": [
    "pd.set_option('display.max_rows', 100)\n",
    "X.dtypes"
   ]
  },
  {
   "cell_type": "code",
   "execution_count": 50,
   "metadata": {
    "id": "yng5_VGDfwht",
    "nbgrader": {
     "grade": false,
     "grade_id": "cell-62193e4c8caef9c5",
     "locked": false,
     "schema_version": 1,
     "solution": true
    }
   },
   "outputs": [],
   "source": [
    "# Split the data into training and testing\n",
    "\n",
    "### BEGIN SOLUTION\n",
    "from sklearn.model_selection import train_test_split\n",
    "\n",
    "X_train, X_test, y_train, y_test = train_test_split(X, y, random_state=42)\n",
    "### END SOLUTION"
   ]
  },
  {
   "cell_type": "code",
   "execution_count": 51,
   "metadata": {
    "id": "draQMYObfwht",
    "nbgrader": {
     "grade": false,
     "grade_id": "cell-a885840c1f62d274",
     "locked": false,
     "schema_version": 1,
     "solution": true
    }
   },
   "outputs": [],
   "source": [
    "from sklearn.preprocessing import StandardScaler\n",
    "\n",
    "# Create a StandardScater model and fit it to the training data\n",
    "\n",
    "### BEGIN SOLUTION\n",
    "X_scaler = StandardScaler().fit(X_train)\n",
    "# y_scaler = StandardScaler().fit(y_train)\n",
    "### END SOLUTION"
   ]
  },
  {
   "cell_type": "code",
   "execution_count": 52,
   "metadata": {
    "id": "QgoRCkxSfwhu",
    "nbgrader": {
     "grade": false,
     "grade_id": "cell-a9cd5d1ec0f114ea",
     "locked": false,
     "schema_version": 1,
     "solution": true
    }
   },
   "outputs": [],
   "source": [
    "# Transform the training and testing data using the X_scaler and y_scaler models\n",
    "\n",
    "### BEGIN SOLUTION\n",
    "X_train_scaled = X_scaler.transform(X_train)\n",
    "X_test_scaled = X_scaler.transform(X_test)\n",
    "# y_train_scaled = y_scaler.transform(y_train)\n",
    "# y_test_scaled = y_scaler.transform(y_test)\n",
    "### END SOLUTION"
   ]
  },
  {
   "cell_type": "code",
   "execution_count": 53,
   "metadata": {
    "id": "ehioJwoPhi0F",
    "outputId": "b919f282-0123-479a-fd4d-aff7b8369aa7"
   },
   "outputs": [
    {
     "data": {
      "text/plain": [
       "array([[ 0.24786835,  1.49846456,  0.04104324, ..., -0.15643442,\n",
       "        -0.03833388, -0.12422479],\n",
       "       [-0.6258814 , -0.6972543 , -1.10161896, ..., -0.15643442,\n",
       "        -0.03833388, -0.12422479],\n",
       "       [-1.28119372,  1.81213868, -1.67295006, ..., -0.15643442,\n",
       "        -0.03833388, -0.12422479],\n",
       "       ...,\n",
       "       [-0.11619405,  0.55744219,  0.04104324, ..., -0.15643442,\n",
       "        -0.03833388, -0.12422479],\n",
       "       [-1.7180686 , -1.32460255,  1.75503654, ..., -0.15643442,\n",
       "        -0.03833388, -0.12422479],\n",
       "       [ 0.39349331,  0.87111631, -0.53028786, ..., -0.15643442,\n",
       "        -0.03833388, -0.12422479]])"
      ]
     },
     "execution_count": 53,
     "metadata": {},
     "output_type": "execute_result"
    }
   ],
   "source": [
    "X_train_scaled"
   ]
  },
  {
   "cell_type": "code",
   "execution_count": 54,
   "metadata": {
    "id": "xfAqPnf6hi0F",
    "outputId": "ddd89034-5651-459a-c287-ea04591f885d"
   },
   "outputs": [],
   "source": [
    "# y_train_scaled"
   ]
  },
  {
   "cell_type": "code",
   "execution_count": 56,
   "metadata": {
    "id": "hw8whfhQfwhu",
    "nbgrader": {
     "grade": false,
     "grade_id": "cell-4df70e615bb36ac1",
     "locked": false,
     "schema_version": 1,
     "solution": true
    },
    "outputId": "5f3887a7-1688-49b3-ac6f-bcbc6f766fc6"
   },
   "outputs": [
    {
     "data": {
      "text/plain": [
       "LinearRegression()"
      ]
     },
     "execution_count": 56,
     "metadata": {},
     "output_type": "execute_result"
    }
   ],
   "source": [
    "# Create a LinearRegression model and fit it to the scaled training data\n",
    "\n",
    "### BEGIN SOLUTION\n",
    "from sklearn.linear_model import LinearRegression\n",
    "regressor = LinearRegression()\n",
    "regressor.fit(X_train_scaled, y_train)\n",
    "### END SOLUTION\n",
    "regressor"
   ]
  },
  {
   "cell_type": "code",
   "execution_count": 58,
   "metadata": {
    "id": "CizqMdvBfwhu",
    "nbgrader": {
     "grade": false,
     "grade_id": "cell-ec6532d8dc790021",
     "locked": false,
     "schema_version": 1,
     "solution": true
    },
    "outputId": "7ae6141e-c752-4808-9c39-c93409421307"
   },
   "outputs": [
    {
     "data": {
      "image/png": "[encoded data removed]",
      "text/plain": [
       "<Figure size 432x288 with 1 Axes>"
      ]
     },
     "metadata": {
      "needs_background": "light"
     },
     "output_type": "display_data"
    }
   ],
   "source": [
    "# Make predictions using a fitted model\n",
    "# Plot the difference between the model predicted values and actual y values, versus the model predicted values\n",
    "# Hint: You can predict values of X training and testing data using the model.predict() method on a fitted model\n",
    "\n",
    "### BEGIN SOLUTION\n",
    "predictions = regressor.predict(X_test_scaled)\n",
    "# regressor.fit(X_train_scaled, y_train_scaled)\n",
    "plt.scatter(regressor.predict(X_train_scaled), y_train - regressor.predict(X_train_scaled), c=\"blue\", label=\"Training Data\")\n",
    "plt.scatter(regressor.predict(X_test_scaled), y_test - regressor.predict(X_test_scaled), c=\"orange\", label=\"Testing Data\")\n",
    "plt.legend()\n",
    "plt.hlines(y=0, xmin=y_test_scaled.min(), xmax=y_test_scaled.max())\n",
    "plt.title(\"Residual Plot\")\n",
    "plt.show()\n",
    "### END SOLUTION"
   ]
  },
  {
   "cell_type": "code",
   "execution_count": 38,
   "metadata": {
    "id": "AbQHtYG5fwhv",
    "nbgrader": {
     "grade": false,
     "grade_id": "cell-deb1d9b663c1883f",
     "locked": false,
     "schema_version": 1,
     "solution": true
    },
    "outputId": "bfeb8bf4-24c5-421d-e6c4-65c62e33de3b"
   },
   "outputs": [
    {
     "name": "stdout",
     "output_type": "stream",
     "text": [
      "MSE: 0.5671107548391379, R2: 0.4353776867940238\n"
     ]
    }
   ],
   "source": [
    "# Used X_test_scaled, y_test_scaled, and model.predict(X_test_scaled) to calculate MSE and R2\n",
    "\n",
    "### BEGIN SOLUTION\n",
    "from sklearn.metrics import mean_squared_error\n",
    "\n",
    "MSE = mean_squared_error(y_test, predictions)\n",
    "r2 = regressor.score(X_test_scaled, y_test)\n",
    "### END SOLUTION\n",
    "\n",
    "print(f\"MSE: {MSE}, R2: {r2}\")"
   ]
  },
  {
   "cell_type": "code",
   "execution_count": 39,
   "metadata": {
    "id": "e7_GnkgKfwhv",
    "nbgrader": {
     "grade": false,
     "grade_id": "cell-1dbfa38f409ceb7c",
     "locked": false,
     "schema_version": 1,
     "solution": true
    },
    "outputId": "f300303e-a0bb-45fd-a241-448a7b6ca583"
   },
   "outputs": [
    {
     "name": "stdout",
     "output_type": "stream",
     "text": [
      "MSE: 0.5737081642270594, R2: 0.42880922636898455\n"
     ]
    }
   ],
   "source": [
    "# LASSO model\n",
    "# Note: Use an alpha of .01 when creating the model for this activity\n",
    "from sklearn.linear_model import Lasso\n",
    "\n",
    "### BEGIN SOLUTION\n",
    "lasso = Lasso(alpha=.01).fit(X_train_scaled, y_train_scaled)\n",
    "\n",
    "predictions = lasso.predict(X_test_scaled)\n",
    "\n",
    "MSE = mean_squared_error(y_test, predictions)\n",
    "r2 = lasso.score(X_test_scaled, y_test)\n",
    "### END SOLUTION\n",
    "\n",
    "print(f\"MSE: {MSE}, R2: {r2}\")"
   ]
  },
  {
   "cell_type": "code",
   "execution_count": 40,
   "metadata": {
    "id": "dk0iO39Vfwhv",
    "nbgrader": {
     "grade": false,
     "grade_id": "cell-d7adb5db2fc7b236",
     "locked": false,
     "schema_version": 1,
     "solution": true
    },
    "outputId": "4d730da3-c3c4-4c9b-86fb-ba97d2a99969"
   },
   "outputs": [
    {
     "name": "stdout",
     "output_type": "stream",
     "text": [
      "MSE: 0.5671102662852995, R2: 0.43537817320412286\n"
     ]
    }
   ],
   "source": [
    "# Ridge model\n",
    "# Note: Use an alpha of .01 when creating the model for this activity\n",
    "from sklearn.linear_model import Ridge\n",
    "\n",
    "### BEGIN SOLUTION\n",
    "ridge = Ridge(alpha=.01).fit(X_train_scaled, y_train_scaled)\n",
    "\n",
    "predictions = ridge.predict(X_test_scaled)\n",
    "\n",
    "MSE = mean_squared_error(y_test, predictions)\n",
    "r2 = ridge.score(X_test_scaled, y_test)\n",
    "### END SOLUTION\n",
    "\n",
    "print(f\"MSE: {MSE}, R2: {r2}\")"
   ]
  },
  {
   "cell_type": "code",
   "execution_count": 41,
   "metadata": {
    "id": "LAvERGZ5fwhw",
    "nbgrader": {
     "grade": false,
     "grade_id": "cell-5b0241abbdaa88e9",
     "locked": false,
     "schema_version": 1,
     "solution": true
    },
    "outputId": "2d485ee8-0466-4923-970f-2514bfe44ccc"
   },
   "outputs": [
    {
     "name": "stdout",
     "output_type": "stream",
     "text": [
      "MSE: 0.5689798833655133, R2: 0.43351675987060356\n"
     ]
    }
   ],
   "source": [
    "# ElasticNet model\n",
    "# Note: Use an alpha of .01 when creating the model for this activity\n",
    "from sklearn.linear_model import ElasticNet\n",
    "\n",
    "### BEGIN SOLUTION\n",
    "elasticnet = ElasticNet(alpha=.01).fit(X_train_scaled, y_train_scaled)\n",
    "\n",
    "predictions = elasticnet.predict(X_test_scaled)\n",
    "\n",
    "MSE = mean_squared_error(y_test, predictions)\n",
    "r2 = elasticnet.score(X_test_scaled, y_test)\n",
    "### END SOLUTION\n",
    "\n",
    "print(f\"MSE: {MSE}, R2: {r2}\")"
   ]
  },
  {
   "cell_type": "code",
   "execution_count": 60,
   "metadata": {},
   "outputs": [],
   "source": [
    "from joblib import dump, load"
   ]
  },
  {
   "cell_type": "code",
   "execution_count": 61,
   "metadata": {},
   "outputs": [
    {
     "data": {
      "text/plain": [
       "['model']"
      ]
     },
     "execution_count": 61,
     "metadata": {},
     "output_type": "execute_result"
    }
   ],
   "source": [
    "dump(regressor, \"model\")"
   ]
  },
  {
   "cell_type": "code",
   "execution_count": 62,
   "metadata": {},
   "outputs": [],
   "source": [
    "reg = load(\"model\")"
   ]
  },
  {
   "cell_type": "code",
   "execution_count": 63,
   "metadata": {},
   "outputs": [
    {
     "data": {
      "text/plain": [
       "array([[51856.67575635],\n",
       "       [40900.67575635],\n",
       "       [16732.92575635],\n",
       "       ...,\n",
       "       [13378.66349314],\n",
       "       [-6759.08650686],\n",
       "       [54292.91349314]])"
      ]
     },
     "execution_count": 63,
     "metadata": {},
     "output_type": "execute_result"
    }
   ],
   "source": [
    "reg.predict(X_test_scaled)"
   ]
  },
  {
   "cell_type": "code",
   "execution_count": 64,
   "metadata": {},
   "outputs": [
    {
     "data": {
      "text/plain": [
       "['scaler']"
      ]
     },
     "execution_count": 64,
     "metadata": {},
     "output_type": "execute_result"
    }
   ],
   "source": [
    "dump(X_scaler, \"scaler\")"
   ]
  },
  {
   "cell_type": "code",
   "execution_count": 65,
   "metadata": {},
   "outputs": [
    {
     "name": "stdout",
     "output_type": "stream",
     "text": [
      "[58990.30075635]\n"
     ]
    }
   ],
   "source": [
    "print(reg.intercept_)"
   ]
  },
  {
   "cell_type": "code",
   "execution_count": null,
   "metadata": {},
   "outputs": [],
   "source": []
  },
  {
   "cell_type": "code",
   "execution_count": null,
   "metadata": {},
   "outputs": [],
   "source": []
  },
  {
   "cell_type": "code",
   "execution_count": null,
   "metadata": {},
   "outputs": [],
   "source": []
  },
  {
   "cell_type": "code",
   "execution_count": null,
   "metadata": {},
   "outputs": [],
   "source": []
  },
  {
   "cell_type": "code",
   "execution_count": null,
   "metadata": {},
   "outputs": [],
   "source": []
  },
  {
   "cell_type": "code",
   "execution_count": null,
   "metadata": {},
   "outputs": [],
   "source": []
  },
  {
   "cell_type": "code",
   "execution_count": null,
   "metadata": {},
   "outputs": [],
   "source": []
  },
  {
   "cell_type": "code",
   "execution_count": null,
   "metadata": {},
   "outputs": [],
   "source": []
  },
  {
   "cell_type": "code",
   "execution_count": null,
   "metadata": {},
   "outputs": [],
   "source": []
  },
  {
   "cell_type": "code",
   "execution_count": null,
   "metadata": {},
   "outputs": [],
   "source": []
  },
  {
   "cell_type": "code",
   "execution_count": null,
   "metadata": {},
   "outputs": [],
   "source": []
  },
  {
   "cell_type": "code",
   "execution_count": null,
   "metadata": {},
   "outputs": [],
   "source": []
  },
  {
   "cell_type": "code",
   "execution_count": null,
   "metadata": {},
   "outputs": [],
   "source": []
  },
  {
   "cell_type": "code",
   "execution_count": null,
   "metadata": {},
   "outputs": [],
   "source": []
  },
  {
   "cell_type": "code",
   "execution_count": 52,
   "metadata": {
    "scrolled": true
   },
   "outputs": [
    {
     "name": "stdout",
     "output_type": "stream",
     "text": [
      "<class 'sklearn.linear_model._base.LinearRegression'>\n"
     ]
    }
   ],
   "source": [
    "print(type(regressor))"
   ]
  },
  {
   "cell_type": "code",
   "execution_count": 53,
   "metadata": {},
   "outputs": [
    {
     "ename": "TypeError",
     "evalue": "'Int64Index' object is not callable",
     "output_type": "error",
     "traceback": [
      "\u001b[1;31m---------------------------------------------------------------------------\u001b[0m",
      "\u001b[1;31mTypeError\u001b[0m                                 Traceback (most recent call last)",
      "\u001b[1;32m<ipython-input-53-6787dd60cf42>\u001b[0m in \u001b[0;36m<module>\u001b[1;34m\u001b[0m\n\u001b[1;32m----> 1\u001b[1;33m \u001b[0mpickle\u001b[0m\u001b[1;33m.\u001b[0m\u001b[0mdump\u001b[0m\u001b[1;33m(\u001b[0m\u001b[0mregressor\u001b[0m\u001b[1;33m,\u001b[0m \u001b[0mopen\u001b[0m\u001b[1;33m(\u001b[0m\u001b[1;34m'model.pkl'\u001b[0m\u001b[1;33m,\u001b[0m\u001b[1;34m'wb'\u001b[0m\u001b[1;33m)\u001b[0m\u001b[1;33m)\u001b[0m\u001b[1;33m\u001b[0m\u001b[1;33m\u001b[0m\u001b[0m\n\u001b[0m",
      "\u001b[1;31mTypeError\u001b[0m: 'Int64Index' object is not callable"
     ]
    }
   ],
   "source": [
    "pickle.dump(regressor, open('model.pkl','wb'))"
   ]
  },
  {
   "cell_type": "code",
   "execution_count": 42,
   "metadata": {},
   "outputs": [],
   "source": [
    "# def save_model(model_name, model):\n",
    "#     '''\n",
    "#     model_name = name.pkl\n",
    "#     joblib.load('name.pkl')\n",
    "#     assign a variable to load model\n",
    "#     '''\n",
    "#     with open(str(model_name), 'wb') as f:\n",
    "#         pickle.dump(model, f)"
   ]
  },
  {
   "cell_type": "code",
   "execution_count": 45,
   "metadata": {},
   "outputs": [
    {
     "ename": "TypeError",
     "evalue": "'Int64Index' object is not callable",
     "output_type": "error",
     "traceback": [
      "\u001b[1;31m---------------------------------------------------------------------------\u001b[0m",
      "\u001b[1;31mTypeError\u001b[0m                                 Traceback (most recent call last)",
      "\u001b[1;32m<ipython-input-45-5dab303345f4>\u001b[0m in \u001b[0;36m<module>\u001b[1;34m\u001b[0m\n\u001b[1;32m----> 1\u001b[1;33m \u001b[0mpickle_out\u001b[0m \u001b[1;33m=\u001b[0m \u001b[0mopen\u001b[0m\u001b[1;33m(\u001b[0m\u001b[1;34m\"model.pkl\"\u001b[0m\u001b[1;33m,\u001b[0m \u001b[1;34m\"wb\"\u001b[0m\u001b[1;33m)\u001b[0m\u001b[1;33m\u001b[0m\u001b[1;33m\u001b[0m\u001b[0m\n\u001b[0m\u001b[0;32m      2\u001b[0m \u001b[0mpickle\u001b[0m\u001b[1;33m.\u001b[0m\u001b[0mdump\u001b[0m\u001b[1;33m(\u001b[0m\u001b[0mregressor\u001b[0m\u001b[1;33m,\u001b[0m \u001b[0mpickle_out\u001b[0m\u001b[1;33m)\u001b[0m\u001b[1;33m\u001b[0m\u001b[1;33m\u001b[0m\u001b[0m\n",
      "\u001b[1;31mTypeError\u001b[0m: 'Int64Index' object is not callable"
     ]
    }
   ],
   "source": [
    "pickle_out = open(\"model.pkl\", \"wb\")\n",
    "pickle.dump(regressor, pickle_out)"
   ]
  },
  {
   "cell_type": "code",
   "execution_count": 47,
   "metadata": {},
   "outputs": [
    {
     "ename": "TypeError",
     "evalue": "'Int64Index' object is not callable",
     "output_type": "error",
     "traceback": [
      "\u001b[1;31m---------------------------------------------------------------------------\u001b[0m",
      "\u001b[1;31mTypeError\u001b[0m                                 Traceback (most recent call last)",
      "\u001b[1;32m<ipython-input-47-108448db2b85>\u001b[0m in \u001b[0;36m<module>\u001b[1;34m\u001b[0m\n\u001b[0;32m      1\u001b[0m \u001b[1;31m#save scaling model\u001b[0m\u001b[1;33m\u001b[0m\u001b[1;33m\u001b[0m\u001b[1;33m\u001b[0m\u001b[0m\n\u001b[1;32m----> 2\u001b[1;33m \u001b[0msave_model\u001b[0m\u001b[1;33m(\u001b[0m\u001b[1;34m'scaler.pkl'\u001b[0m\u001b[1;33m,\u001b[0m\u001b[0mregressor\u001b[0m\u001b[1;33m)\u001b[0m\u001b[1;33m\u001b[0m\u001b[1;33m\u001b[0m\u001b[0m\n\u001b[0m",
      "\u001b[1;32m<ipython-input-42-d4d9f126b622>\u001b[0m in \u001b[0;36msave_model\u001b[1;34m(model_name, model)\u001b[0m\n\u001b[0;32m      5\u001b[0m     \u001b[0massign\u001b[0m \u001b[0ma\u001b[0m \u001b[0mvariable\u001b[0m \u001b[0mto\u001b[0m \u001b[0mload\u001b[0m \u001b[0mmodel\u001b[0m\u001b[1;33m\u001b[0m\u001b[1;33m\u001b[0m\u001b[0m\n\u001b[0;32m      6\u001b[0m     '''\n\u001b[1;32m----> 7\u001b[1;33m     \u001b[1;32mwith\u001b[0m \u001b[0mopen\u001b[0m\u001b[1;33m(\u001b[0m\u001b[0mstr\u001b[0m\u001b[1;33m(\u001b[0m\u001b[0mmodel_name\u001b[0m\u001b[1;33m)\u001b[0m\u001b[1;33m,\u001b[0m \u001b[1;34m'wb'\u001b[0m\u001b[1;33m)\u001b[0m \u001b[1;32mas\u001b[0m \u001b[0mf\u001b[0m\u001b[1;33m:\u001b[0m\u001b[1;33m\u001b[0m\u001b[1;33m\u001b[0m\u001b[0m\n\u001b[0m\u001b[0;32m      8\u001b[0m         \u001b[0mpickle\u001b[0m\u001b[1;33m.\u001b[0m\u001b[0mdump\u001b[0m\u001b[1;33m(\u001b[0m\u001b[0mmodel\u001b[0m\u001b[1;33m,\u001b[0m \u001b[0mf\u001b[0m\u001b[1;33m)\u001b[0m\u001b[1;33m\u001b[0m\u001b[1;33m\u001b[0m\u001b[0m\n",
      "\u001b[1;31mTypeError\u001b[0m: 'Int64Index' object is not callable"
     ]
    }
   ],
   "source": [
    "#save scaling model\n",
    "save_model('scaler.pkl',regressor)"
   ]
  },
  {
   "cell_type": "code",
   "execution_count": null,
   "metadata": {
    "id": "kcOzcn5yhi0H",
    "outputId": "26e7bfc5-8448-4645-d196-e2d1bdce68af",
    "scrolled": true
   },
   "outputs": [
    {
     "ename": "TypeError",
     "evalue": "'Int64Index' object is not callable",
     "output_type": "error",
     "traceback": [
      "\u001b[1;31m---------------------------------------------------------------------------\u001b[0m",
      "\u001b[1;31mTypeError\u001b[0m                                 Traceback (most recent call last)",
      "\u001b[1;32m<ipython-input-54-fb7a3061880b>\u001b[0m in \u001b[0;36m<module>\u001b[1;34m\u001b[0m\n\u001b[0;32m      1\u001b[0m \u001b[1;31m# Saving model to current directory - https://www.analyticsvidhya.com/blog/2020/09/integrating-machine-learning-into-web-applications-with-flask/\u001b[0m\u001b[1;33m\u001b[0m\u001b[1;33m\u001b[0m\u001b[1;33m\u001b[0m\u001b[0m\n\u001b[0;32m      2\u001b[0m \u001b[1;31m# Pickle serializes objects so they can be saved to a file, and loaded in a program again later on.\u001b[0m\u001b[1;33m\u001b[0m\u001b[1;33m\u001b[0m\u001b[1;33m\u001b[0m\u001b[0m\n\u001b[1;32m----> 3\u001b[1;33m \u001b[0mpickle\u001b[0m\u001b[1;33m.\u001b[0m\u001b[0mdump\u001b[0m\u001b[1;33m(\u001b[0m\u001b[0mregressor\u001b[0m\u001b[1;33m,\u001b[0m \u001b[0mopen\u001b[0m\u001b[1;33m(\u001b[0m\u001b[1;34m'model.pkl'\u001b[0m\u001b[1;33m,\u001b[0m\u001b[1;34m'wb'\u001b[0m\u001b[1;33m)\u001b[0m\u001b[1;33m)\u001b[0m\u001b[1;33m\u001b[0m\u001b[1;33m\u001b[0m\u001b[0m\n\u001b[0m",
      "\u001b[1;31mTypeError\u001b[0m: 'Int64Index' object is not callable"
     ]
    }
   ],
   "source": [
    "# # Saving model to current directory - https://www.analyticsvidhya.com/blog/2020/09/integrating-machine-learning-into-web-applications-with-flask/\n",
    "# # Pickle serializes objects so they can be saved to a file, and loaded in a program again later on.\n",
    "# pickle.dump(regressor, open('model.pkl','wb'))"
   ]
  },
  {
   "cell_type": "code",
   "execution_count": null,
   "metadata": {
    "id": "fkJVL0tQhi0H",
    "outputId": "f2fc25ba-000d-466b-96f8-df3a685e93ec"
   },
   "outputs": [
    {
     "ename": "TypeError",
     "evalue": "'Int64Index' object is not callable",
     "output_type": "error",
     "traceback": [
      "\u001b[1;31m---------------------------------------------------------------------------\u001b[0m",
      "\u001b[1;31mTypeError\u001b[0m                                 Traceback (most recent call last)",
      "\u001b[1;32m<ipython-input-55-54f06b513771>\u001b[0m in \u001b[0;36m<module>\u001b[1;34m\u001b[0m\n\u001b[0;32m      1\u001b[0m \u001b[1;31m#Loading model to compare the results\u001b[0m\u001b[1;33m\u001b[0m\u001b[1;33m\u001b[0m\u001b[1;33m\u001b[0m\u001b[0m\n\u001b[1;32m----> 2\u001b[1;33m \u001b[0mmodel\u001b[0m \u001b[1;33m=\u001b[0m \u001b[0mpickle\u001b[0m\u001b[1;33m.\u001b[0m\u001b[0mload\u001b[0m\u001b[1;33m(\u001b[0m\u001b[0mopen\u001b[0m\u001b[1;33m(\u001b[0m\u001b[1;34m'model.pkl'\u001b[0m\u001b[1;33m,\u001b[0m\u001b[1;34m'rb'\u001b[0m\u001b[1;33m)\u001b[0m\u001b[1;33m)\u001b[0m\u001b[1;33m\u001b[0m\u001b[1;33m\u001b[0m\u001b[0m\n\u001b[0m\u001b[0;32m      3\u001b[0m \u001b[0mprint\u001b[0m\u001b[1;33m(\u001b[0m\u001b[0mmodel\u001b[0m\u001b[1;33m.\u001b[0m\u001b[0mpredict\u001b[0m\u001b[1;33m(\u001b[0m\u001b[1;33m[\u001b[0m\u001b[1;33m[\u001b[0m\u001b[1;36m2.6\u001b[0m\u001b[1;33m,\u001b[0m \u001b[1;36m8\u001b[0m\u001b[1;33m,\u001b[0m \u001b[1;36m10.1\u001b[0m\u001b[1;33m]\u001b[0m\u001b[1;33m]\u001b[0m\u001b[1;33m)\u001b[0m\u001b[1;33m)\u001b[0m\u001b[1;33m\u001b[0m\u001b[1;33m\u001b[0m\u001b[0m\n",
      "\u001b[1;31mTypeError\u001b[0m: 'Int64Index' object is not callable"
     ]
    }
   ],
   "source": [
    "#Loading model to compare the results\n",
    "model = pickle.load(open('model.pkl','rb'))\n",
    "print(model.predict([[2.6, 8, 10.1]]))"
   ]
  },
  {
   "cell_type": "code",
   "execution_count": null,
   "metadata": {
    "id": "dbNe42oXhi0H"
   },
   "outputs": [],
   "source": []
  }
 ],
 "metadata": {
  "celltoolbar": "Create Assignment",
  "colab": {
   "name": "311_service_request.ipynb",
   "provenance": []
  },
  "kernelspec": {
   "display_name": "Python 3",
   "language": "python",
   "name": "python3"
  },
  "language_info": {
   "codemirror_mode": {
    "name": "ipython",
    "version": 3
   },
   "file_extension": ".py",
   "mimetype": "text/x-python",
   "name": "python",
   "nbconvert_exporter": "python",
   "pygments_lexer": "ipython3",
   "version": "3.8.3"
  },
  "varInspector": {
   "cols": {
    "lenName": 16,
    "lenType": 16,
    "lenVar": 40
   },
   "kernels_config": {
    "python": {
     "delete_cmd_postfix": "",
     "delete_cmd_prefix": "del ",
     "library": "var_list.py",
     "varRefreshCmd": "print(var_dic_list())"
    },
    "r": {
     "delete_cmd_postfix": ") ",
     "delete_cmd_prefix": "rm(",
     "library": "var_list.r",
     "varRefreshCmd": "cat(var_dic_list()) "
    }
   },
   "types_to_exclude": [
    "module",
    "function",
    "builtin_function_or_method",
    "instance",
    "_Feature"
   ],
   "window_display": false
  }
 },
 "nbformat": 4,
 "nbformat_minor": 1
}
